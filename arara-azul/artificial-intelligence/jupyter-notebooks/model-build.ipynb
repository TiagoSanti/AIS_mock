{
 "cells": [
  {
   "cell_type": "markdown",
   "source": [
    "# Setup"
   ],
   "metadata": {
    "id": "kVU8nWV-N5QL"
   }
  },
  {
   "cell_type": "code",
   "execution_count": 2,
   "metadata": {
    "id": "P6STAP2bnl9Q",
    "colab": {
     "base_uri": "https://localhost:8080/"
    },
    "executionInfo": {
     "status": "ok",
     "timestamp": 1683380636586,
     "user_tz": 240,
     "elapsed": 24851,
     "user": {
      "displayName": "Tiago Santi",
      "userId": "02979615434612127801"
     }
    },
    "outputId": "cbf5c798-b5b3-436d-fca5-19b833a4c14f"
   },
   "outputs": [
    {
     "output_type": "stream",
     "name": "stdout",
     "text": [
      "Mounted at /content/drive\n"
     ]
    }
   ],
   "source": [
    "from google.colab import drive\n",
    "drive.mount('/content/drive')"
   ]
  },
  {
   "cell_type": "code",
   "execution_count": 1,
   "metadata": {
    "id": "6x3tmfKVnnPh",
    "colab": {
     "base_uri": "https://localhost:8080/"
    },
    "executionInfo": {
     "status": "ok",
     "timestamp": 1683380668579,
     "user_tz": 240,
     "elapsed": 24087,
     "user": {
      "displayName": "Tiago Santi",
      "userId": "02979615434612127801"
     }
    },
    "outputId": "3cd390e2-b92b-4958-9f47-7dd77046949b"
   },
   "outputs": [
    {
     "name": "stdout",
     "output_type": "stream",
     "text": [
      "Requirement already satisfied: datasets in s:\\anaconda3\\lib\\site-packages (2.12.0)\n",
      "Requirement already satisfied: transformers in s:\\anaconda3\\lib\\site-packages (4.28.1)\n",
      "Requirement already satisfied: huggingface_hub in s:\\anaconda3\\lib\\site-packages (0.14.1)\n",
      "Requirement already satisfied: wandb in s:\\anaconda3\\lib\\site-packages (0.15.2)\n",
      "Collecting accelerate\n",
      "  Downloading accelerate-0.19.0-py3-none-any.whl (219 kB)\n",
      "     -------------------------------------- 219.1/219.1 kB 4.5 MB/s eta 0:00:00\n",
      "Requirement already satisfied: numpy>=1.17 in s:\\anaconda3\\lib\\site-packages (from datasets) (1.21.6)\n",
      "Requirement already satisfied: responses<0.19 in s:\\anaconda3\\lib\\site-packages (from datasets) (0.18.0)\n",
      "Requirement already satisfied: pandas in s:\\anaconda3\\lib\\site-packages (from datasets) (1.3.5)\n",
      "Requirement already satisfied: packaging in s:\\anaconda3\\lib\\site-packages (from datasets) (21.3)\n",
      "Requirement already satisfied: tqdm>=4.62.1 in s:\\anaconda3\\lib\\site-packages (from datasets) (4.64.1)\n",
      "Requirement already satisfied: fsspec[http]>=2021.11.1 in s:\\anaconda3\\lib\\site-packages (from datasets) (2022.7.1)\n",
      "Requirement already satisfied: aiohttp in s:\\anaconda3\\lib\\site-packages (from datasets) (3.8.4)\n",
      "Requirement already satisfied: pyyaml>=5.1 in s:\\anaconda3\\lib\\site-packages (from datasets) (6.0)\n",
      "Requirement already satisfied: dill<0.3.7,>=0.3.0 in s:\\anaconda3\\lib\\site-packages (from datasets) (0.3.6)\n",
      "Requirement already satisfied: multiprocess in s:\\anaconda3\\lib\\site-packages (from datasets) (0.70.14)\n",
      "Requirement already satisfied: pyarrow>=8.0.0 in s:\\anaconda3\\lib\\site-packages (from datasets) (12.0.0)\n",
      "Requirement already satisfied: xxhash in s:\\anaconda3\\lib\\site-packages (from datasets) (3.2.0)\n",
      "Requirement already satisfied: requests>=2.19.0 in s:\\anaconda3\\lib\\site-packages (from datasets) (2.27.1)\n",
      "Requirement already satisfied: tokenizers!=0.11.3,<0.14,>=0.11.1 in s:\\anaconda3\\lib\\site-packages (from transformers) (0.13.3)\n",
      "Requirement already satisfied: filelock in s:\\anaconda3\\lib\\site-packages (from transformers) (3.6.0)\n",
      "Requirement already satisfied: regex!=2019.12.17 in s:\\anaconda3\\lib\\site-packages (from transformers) (2022.7.9)\n",
      "Requirement already satisfied: typing-extensions>=3.7.4.3 in s:\\anaconda3\\lib\\site-packages (from huggingface_hub) (4.3.0)\n",
      "Requirement already satisfied: GitPython!=3.1.29,>=1.0.0 in s:\\anaconda3\\lib\\site-packages (from wandb) (3.1.31)\n",
      "Requirement already satisfied: sentry-sdk>=1.0.0 in s:\\anaconda3\\lib\\site-packages (from wandb) (1.19.1)\n",
      "Requirement already satisfied: setproctitle in s:\\anaconda3\\lib\\site-packages (from wandb) (1.3.2)\n",
      "Requirement already satisfied: protobuf!=4.21.0,<5,>=3.19.0 in s:\\anaconda3\\lib\\site-packages (from wandb) (3.20.3)\n",
      "Requirement already satisfied: psutil>=5.0.0 in s:\\anaconda3\\lib\\site-packages (from wandb) (5.9.0)\n",
      "Requirement already satisfied: appdirs>=1.4.3 in s:\\anaconda3\\lib\\site-packages (from wandb) (1.4.4)\n",
      "Requirement already satisfied: Click!=8.0.0,>=7.0 in s:\\anaconda3\\lib\\site-packages (from wandb) (8.0.4)\n",
      "Requirement already satisfied: docker-pycreds>=0.4.0 in s:\\anaconda3\\lib\\site-packages (from wandb) (0.4.0)\n",
      "Requirement already satisfied: setuptools in s:\\anaconda3\\lib\\site-packages (from wandb) (63.4.1)\n",
      "Requirement already satisfied: pathtools in s:\\anaconda3\\lib\\site-packages (from wandb) (0.1.2)\n",
      "Requirement already satisfied: torch>=1.6.0 in s:\\anaconda3\\lib\\site-packages (from accelerate) (2.0.0)\n",
      "Requirement already satisfied: colorama in s:\\anaconda3\\lib\\site-packages (from Click!=8.0.0,>=7.0->wandb) (0.4.5)\n",
      "Requirement already satisfied: six>=1.4.0 in s:\\anaconda3\\lib\\site-packages (from docker-pycreds>=0.4.0->wandb) (1.16.0)\n",
      "Requirement already satisfied: gitdb<5,>=4.0.1 in s:\\anaconda3\\lib\\site-packages (from GitPython!=3.1.29,>=1.0.0->wandb) (4.0.10)\n",
      "Requirement already satisfied: pyparsing!=3.0.5,>=2.0.2 in s:\\anaconda3\\lib\\site-packages (from packaging->datasets) (3.0.9)\n",
      "Requirement already satisfied: charset-normalizer~=2.0.0 in s:\\anaconda3\\lib\\site-packages (from requests>=2.19.0->datasets) (2.0.12)\n",
      "Requirement already satisfied: certifi>=2017.4.17 in s:\\anaconda3\\lib\\site-packages (from requests>=2.19.0->datasets) (2022.12.7)\n",
      "Requirement already satisfied: urllib3<1.27,>=1.21.1 in s:\\anaconda3\\lib\\site-packages (from requests>=2.19.0->datasets) (1.26.11)\n",
      "Requirement already satisfied: idna<4,>=2.5 in s:\\anaconda3\\lib\\site-packages (from requests>=2.19.0->datasets) (3.3)\n",
      "Requirement already satisfied: sympy in s:\\anaconda3\\lib\\site-packages (from torch>=1.6.0->accelerate) (1.10.1)\n",
      "Requirement already satisfied: networkx in s:\\anaconda3\\lib\\site-packages (from torch>=1.6.0->accelerate) (2.8.4)\n",
      "Requirement already satisfied: jinja2 in s:\\anaconda3\\lib\\site-packages (from torch>=1.6.0->accelerate) (3.1.2)\n",
      "Requirement already satisfied: aiosignal>=1.1.2 in s:\\anaconda3\\lib\\site-packages (from aiohttp->datasets) (1.3.1)\n",
      "Requirement already satisfied: frozenlist>=1.1.1 in s:\\anaconda3\\lib\\site-packages (from aiohttp->datasets) (1.3.3)\n",
      "Requirement already satisfied: async-timeout<5.0,>=4.0.0a3 in s:\\anaconda3\\lib\\site-packages (from aiohttp->datasets) (4.0.2)\n",
      "Requirement already satisfied: multidict<7.0,>=4.5 in s:\\anaconda3\\lib\\site-packages (from aiohttp->datasets) (6.0.4)\n",
      "Requirement already satisfied: yarl<2.0,>=1.0 in s:\\anaconda3\\lib\\site-packages (from aiohttp->datasets) (1.9.2)\n",
      "Requirement already satisfied: attrs>=17.3.0 in s:\\anaconda3\\lib\\site-packages (from aiohttp->datasets) (21.4.0)\n",
      "Requirement already satisfied: pytz>=2017.3 in s:\\anaconda3\\lib\\site-packages (from pandas->datasets) (2019.3)\n",
      "Requirement already satisfied: python-dateutil>=2.7.3 in s:\\anaconda3\\lib\\site-packages (from pandas->datasets) (2.8.1)\n",
      "Requirement already satisfied: smmap<6,>=3.0.1 in s:\\anaconda3\\lib\\site-packages (from gitdb<5,>=4.0.1->GitPython!=3.1.29,>=1.0.0->wandb) (5.0.0)\n",
      "Requirement already satisfied: MarkupSafe>=2.0 in s:\\anaconda3\\lib\\site-packages (from jinja2->torch>=1.6.0->accelerate) (2.0.1)\n",
      "Requirement already satisfied: mpmath>=0.19 in s:\\anaconda3\\lib\\site-packages (from sympy->torch>=1.6.0->accelerate) (1.2.1)\n",
      "Installing collected packages: accelerate\n",
      "Successfully installed accelerate-0.19.0\n"
     ]
    }
   ],
   "source": [
    "!pip install datasets transformers huggingface_hub wandb accelerate"
   ]
  },
  {
   "cell_type": "code",
   "source": [
    "import os\n",
    "import torch\n",
    "import torch.nn.functional as F\n",
    "import pandas as pd\n",
    "import numpy as np\n",
    "from datasets import Dataset\n",
    "from sklearn.metrics import precision_recall_fscore_support, accuracy_score\n",
    "from transformers import BertForSequenceClassification\n",
    "from transformers import BertTokenizer\n",
    "from transformers import DataCollatorWithPadding\n",
    "from transformers import TrainingArguments, Trainer"
   ],
   "metadata": {
    "id": "G591jNmeOCIw",
    "executionInfo": {
     "status": "ok",
     "timestamp": 1683380681087,
     "user_tz": 240,
     "elapsed": 12550,
     "user": {
      "displayName": "Tiago Santi",
      "userId": "02979615434612127801"
     }
    }
   },
   "execution_count": 20,
   "outputs": []
  },
  {
   "cell_type": "code",
   "execution_count": null,
   "outputs": [],
   "source": [
    "from google.colab import runtime"
   ],
   "metadata": {
    "collapsed": false
   }
  },
  {
   "cell_type": "code",
   "source": [
    "import warnings\n",
    "from sklearn.exceptions import UndefinedMetricWarning\n",
    "\n",
    "warnings.filterwarnings(\"ignore\", category=UndefinedMetricWarning)"
   ],
   "metadata": {
    "id": "2ueas9Do0ypz",
    "executionInfo": {
     "status": "ok",
     "timestamp": 1683380681092,
     "user_tz": 240,
     "elapsed": 113,
     "user": {
      "displayName": "Tiago Santi",
      "userId": "02979615434612127801"
     }
    }
   },
   "execution_count": 21,
   "outputs": []
  },
  {
   "cell_type": "code",
   "source": [
    "import wandb\n",
    "wandb.login()"
   ],
   "metadata": {
    "id": "y_czDj1HRcbD",
    "executionInfo": {
     "status": "aborted",
     "timestamp": 1683374779054,
     "user_tz": 240,
     "elapsed": 92,
     "user": {
      "displayName": "Tiago Santi",
      "userId": "02979615434612127801"
     }
    }
   },
   "execution_count": null,
   "outputs": []
  },
  {
   "cell_type": "code",
   "source": [
    "wandb.init(project='Tuiaia')"
   ],
   "metadata": {
    "id": "EEDak89J5Z-l",
    "executionInfo": {
     "status": "aborted",
     "timestamp": 1683374779056,
     "user_tz": 240,
     "elapsed": 93,
     "user": {
      "displayName": "Tiago Santi",
      "userId": "02979615434612127801"
     }
    }
   },
   "execution_count": null,
   "outputs": []
  },
  {
   "cell_type": "code",
   "execution_count": 6,
   "metadata": {
    "id": "Wo7zW7wMN9TO",
    "executionInfo": {
     "status": "ok",
     "timestamp": 1683380681540,
     "user_tz": 240,
     "elapsed": 556,
     "user": {
      "displayName": "Tiago Santi",
      "userId": "02979615434612127801"
     }
    }
   },
   "outputs": [],
   "source": [
    "REPO_DIR = '/content/drive/Othercomputers/Desktop/pantanal.dev/artificial-intelligence'\n",
    "os.chdir(REPO_DIR)"
   ]
  },
  {
   "cell_type": "code",
   "execution_count": 4,
   "metadata": {
    "executionInfo": {
     "elapsed": 39,
     "status": "ok",
     "timestamp": 1683380681541,
     "user": {
      "displayName": "Tiago Santi",
      "userId": "02979615434612127801"
     },
     "user_tz": 240
    },
    "id": "GsNqy4b5UFvv",
    "colab": {
     "base_uri": "https://localhost:8080/"
    },
    "outputId": "6bfa19e4-3974-46c9-fc00-3ed0feec9e99"
   },
   "outputs": [
    {
     "data": {
      "text/plain": "device(type='cpu')"
     },
     "execution_count": 4,
     "metadata": {},
     "output_type": "execute_result"
    }
   ],
   "source": [
    "device = torch.device('cuda' if torch.cuda.is_available() else 'cpu')\n",
    "device"
   ]
  },
  {
   "cell_type": "code",
   "source": [
    "seed = 42\n",
    "np.random.seed(seed)"
   ],
   "metadata": {
    "id": "nAN9nuHmT4l2",
    "executionInfo": {
     "status": "ok",
     "timestamp": 1683380681541,
     "user_tz": 240,
     "elapsed": 16,
     "user": {
      "displayName": "Tiago Santi",
      "userId": "02979615434612127801"
     }
    }
   },
   "execution_count": 5,
   "outputs": []
  },
  {
   "cell_type": "code",
   "source": [
    "def disconnect():\n",
    "    runtime.unassign()"
   ],
   "metadata": {
    "id": "83FEw85eVBqn",
    "executionInfo": {
     "status": "ok",
     "timestamp": 1683380681542,
     "user_tz": 240,
     "elapsed": 15,
     "user": {
      "displayName": "Tiago Santi",
      "userId": "02979615434612127801"
     }
    }
   },
   "execution_count": 6,
   "outputs": []
  },
  {
   "cell_type": "code",
   "source": [
    "def tokenize_function(examples, padding='max_length', truncation=True, max_length=512):\n",
    "    return tokenizer(examples['text'], padding=padding, truncation=truncation, max_length=max_length)"
   ],
   "metadata": {
    "id": "Vewff8CJv4Xd",
    "executionInfo": {
     "status": "ok",
     "timestamp": 1683380681543,
     "user_tz": 240,
     "elapsed": 15,
     "user": {
      "displayName": "Tiago Santi",
      "userId": "02979615434612127801"
     }
    }
   },
   "execution_count": 7,
   "outputs": []
  },
  {
   "cell_type": "code",
   "source": [
    "def compute_metrics(eval_pred):\n",
    "    logits, labels = eval_pred\n",
    "    predictions = np.argmax(logits, axis=-1)\n",
    "    precision, recall, f1, _ = precision_recall_fscore_support(labels, predictions, average='weighted')\n",
    "    acc = accuracy_score(labels, predictions)\n",
    "    return {\n",
    "        'accuracy': acc,\n",
    "        'f1': f1,\n",
    "        'precision': precision,\n",
    "        'recall': recall\n",
    "    }"
   ],
   "metadata": {
    "id": "k3R8LVKRwXk-",
    "executionInfo": {
     "status": "ok",
     "timestamp": 1683380681543,
     "user_tz": 240,
     "elapsed": 14,
     "user": {
      "displayName": "Tiago Santi",
      "userId": "02979615434612127801"
     }
    }
   },
   "execution_count": 8,
   "outputs": []
  },
  {
   "cell_type": "code",
   "source": [
    "def predict_sentiment(input_text, model):\n",
    "    input_tokens = tokenizer.encode_plus(input_text, return_tensors=\"pt\", max_length=512)\n",
    "\n",
    "    input_tokens.to(device)\n",
    "\n",
    "    with torch.no_grad():\n",
    "        output = model(**input_tokens)\n",
    "    \n",
    "    logits = output.logits\n",
    "    probabilities = F.softmax(logits, dim=-1)\n",
    "    predicted_class_idx = torch.argmax(probabilities, dim=1).item()\n",
    "    \n",
    "    return predicted_class_idx"
   ],
   "metadata": {
    "id": "EP9XDin_wgyH",
    "executionInfo": {
     "status": "ok",
     "timestamp": 1683380681544,
     "user_tz": 240,
     "elapsed": 14,
     "user": {
      "displayName": "Tiago Santi",
      "userId": "02979615434612127801"
     }
    }
   },
   "execution_count": 9,
   "outputs": []
  },
  {
   "cell_type": "markdown",
   "source": [
    "# Carregar dataset"
   ],
   "metadata": {
    "id": "oHGQWrZmA17Y"
   }
  },
  {
   "cell_type": "code",
   "source": [
    "train_df = pd.read_csv('../datasets/df-v2/train_df.csv', sep='|')\n",
    "val_df = pd.read_csv('../datasets/df-v2/val_df.csv', sep='|')\n",
    "test_df = pd.read_csv('../datasets/df-v2/test_df.csv', sep='|')"
   ],
   "metadata": {
    "id": "g3E0E0hsA5h1",
    "executionInfo": {
     "status": "ok",
     "timestamp": 1683383105965,
     "user_tz": 240,
     "elapsed": 873,
     "user": {
      "displayName": "Tiago Santi",
      "userId": "02979615434612127801"
     }
    }
   },
   "execution_count": 14,
   "outputs": []
  },
  {
   "cell_type": "markdown",
   "source": [
    "# Treinamento do modelo"
   ],
   "metadata": {
    "id": "Ndz0rlL44emE"
   }
  },
  {
   "cell_type": "code",
   "execution_count": 17,
   "outputs": [],
   "source": [
    "columns = ['text', 'raw_text', 'font', 'lang', 'sentiment', 'label', 'impact_term']\n",
    "train_df.columns = columns\n",
    "val_df.columns = columns\n",
    "test_df.columns = columns"
   ],
   "metadata": {
    "collapsed": false
   }
  },
  {
   "cell_type": "code",
   "source": [
    "train_dataset = Dataset.from_pandas(train_df)\n",
    "val_dataset = Dataset.from_pandas(val_df)\n",
    "test_dataset = Dataset.from_pandas(test_df)"
   ],
   "metadata": {
    "id": "tQHV4IM3rKhx",
    "executionInfo": {
     "status": "ok",
     "timestamp": 1683383106411,
     "user_tz": 240,
     "elapsed": 457,
     "user": {
      "displayName": "Tiago Santi",
      "userId": "02979615434612127801"
     }
    }
   },
   "execution_count": 18,
   "outputs": []
  },
  {
   "cell_type": "code",
   "source": [
    "model = BertForSequenceClassification.from_pretrained('bert-base-multilingual-cased', num_labels=3)\n",
    "tokenizer = BertTokenizer.from_pretrained('bert-base-multilingual-cased')"
   ],
   "metadata": {
    "id": "2lh4iS4MrKhx"
   },
   "execution_count": 19,
   "outputs": [
    {
     "name": "stderr",
     "output_type": "stream",
     "text": [
      "Some weights of the model checkpoint at bert-base-multilingual-cased were not used when initializing BertForSequenceClassification: ['cls.predictions.decoder.weight', 'cls.predictions.bias', 'cls.predictions.transform.LayerNorm.bias', 'cls.seq_relationship.weight', 'cls.predictions.transform.dense.weight', 'cls.predictions.transform.dense.bias', 'cls.seq_relationship.bias', 'cls.predictions.transform.LayerNorm.weight']\n",
      "- This IS expected if you are initializing BertForSequenceClassification from the checkpoint of a model trained on another task or with another architecture (e.g. initializing a BertForSequenceClassification model from a BertForPreTraining model).\n",
      "- This IS NOT expected if you are initializing BertForSequenceClassification from the checkpoint of a model that you expect to be exactly identical (initializing a BertForSequenceClassification model from a BertForSequenceClassification model).\n",
      "Some weights of BertForSequenceClassification were not initialized from the model checkpoint at bert-base-multilingual-cased and are newly initialized: ['classifier.bias', 'classifier.weight']\n",
      "You should probably TRAIN this model on a down-stream task to be able to use it for predictions and inference.\n"
     ]
    }
   ]
  },
  {
   "cell_type": "code",
   "source": [
    "tokenized_train_dataset = train_dataset.map(tokenize_function, batched=True)\n",
    "tokenized_eval_dataset = val_dataset.map(tokenize_function, batched=True)\n",
    "tokenized_test_dataset = test_dataset.map(tokenize_function, batched=True)"
   ],
   "metadata": {
    "colab": {
     "base_uri": "https://localhost:8080/",
     "height": 17,
     "referenced_widgets": [
      "96d8a89371014718ab6079a8b2ade8d1",
      "43a0b22dff5e4f79af2259e207ec8e76",
      "d9407947e239422ba05e4120a1a82ea5",
      "9e2b367217464e0596df21ffcf9c3e4e",
      "ca842560abd846a1ae0eb4cbba03c92e",
      "d18f95309b7741e4a8a8e470002fcca6",
      "c038afef7fc94dbb936386071aa9fbd7",
      "bc8804ba57344b138113d97127f9769c",
      "31e005202dbc4c84a23bbb8946b64ae6",
      "9ccf975eca9d466c81a976f45325b8d2",
      "70e9fb9147d34145862282f36fa0346f",
      "9594143c8c40417fb771d9a124d393e2",
      "76ef919b1e974d73a662eb59de9d964b",
      "55ff3a7dc51c4fada5f5286fd6709772",
      "b1b9ab2db4744880844d1fa827090d62",
      "1b2e16d09d0d45b6997152c61339876a",
      "2507954a3565483f96f47425da2587d3",
      "78c900400ce640beba0fbdb31fd90722",
      "6597c60b005d4d19a7f1f4d44f48ac45",
      "128bae66b65a4287b97545c96ba2b39d",
      "9fd08cb141bd4957a993c2f21a5a144d",
      "7c59ca5e39424efd9029aed2e775fafd",
      "fd5cf267023c46efb435a2a784d088b7",
      "76a18da8fb934a3cb2adf03a5ee050fd",
      "c8371f5d1c4c4452a6a3ccfdbe446c90",
      "8f736179731c42d98c389b1f6c32bf6b",
      "a821ff68d2fd4fcf8330da101292060b",
      "6b3453d91af844b0a32d8ac097900ec2",
      "6361a1aef4794864a7630b19d0bee792",
      "69ed45537afc4e30b565eb734546ba72",
      "1a3ecbca3e874619a78ed84018226a06",
      "9e67befff2a44ed0b4e3c5bdfeb41e1e",
      "d1f85fd2fd5d4773963186d1a1cf140b"
     ]
    },
    "executionInfo": {
     "status": "ok",
     "timestamp": 1683262761012,
     "user_tz": 240,
     "elapsed": 15589,
     "user": {
      "displayName": "Tiago Santi",
      "userId": "02979615434612127801"
     }
    },
    "outputId": "5a44e0dd-b030-4443-8b4f-19fc9db016f7",
    "id": "WaiT8HS-rKhx"
   },
   "execution_count": 22,
   "outputs": [
    {
     "data": {
      "text/plain": "Map:   0%|          | 0/1763 [00:00<?, ? examples/s]",
      "application/vnd.jupyter.widget-view+json": {
       "version_major": 2,
       "version_minor": 0,
       "model_id": "bafbf310ad57431bbca2d40a568afa71"
      }
     },
     "metadata": {},
     "output_type": "display_data"
    },
    {
     "data": {
      "text/plain": "Map:   0%|          | 0/379 [00:00<?, ? examples/s]",
      "application/vnd.jupyter.widget-view+json": {
       "version_major": 2,
       "version_minor": 0,
       "model_id": "caa0bef0b9f44bb18b4caa40e957e6b0"
      }
     },
     "metadata": {},
     "output_type": "display_data"
    },
    {
     "data": {
      "text/plain": "Map:   0%|          | 0/378 [00:00<?, ? examples/s]",
      "application/vnd.jupyter.widget-view+json": {
       "version_major": 2,
       "version_minor": 0,
       "model_id": "5a27724046394f69ad9f244d486c9ccc"
      }
     },
     "metadata": {},
     "output_type": "display_data"
    }
   ]
  },
  {
   "cell_type": "code",
   "source": [
    "data_collator = DataCollatorWithPadding(tokenizer)"
   ],
   "metadata": {
    "id": "CTG4iMr6rKhx"
   },
   "execution_count": 23,
   "outputs": []
  },
  {
   "cell_type": "code",
   "source": [
    "repo_name = '../trainingsbert-base-multilingual-cased-impact-01'\n",
    "\n",
    "training_args = TrainingArguments(\n",
    "    output_dir=f'./trainings/{repo_name}/',\n",
    "    seed=seed,\n",
    "    per_device_train_batch_size=14,\n",
    "    per_device_eval_batch_size=14,\n",
    "    num_train_epochs=15,\n",
    "    learning_rate=5e-6,\n",
    "    weight_decay=0.01,\n",
    "    logging_steps=100,\n",
    "    eval_steps=100,\n",
    "    evaluation_strategy=\"steps\",\n",
    "    save_steps=1000,\n",
    "    save_strategy=\"steps\",\n",
    "    save_total_limit=1,\n",
    "    #report_to=\"wandb\",\n",
    ")\n",
    "\n",
    "trainer = Trainer(\n",
    "    model=model,\n",
    "    args=training_args,\n",
    "    train_dataset=tokenized_train_dataset,\n",
    "    eval_dataset=tokenized_eval_dataset,\n",
    "    data_collator=data_collator,\n",
    "    tokenizer=tokenizer,\n",
    "    compute_metrics=compute_metrics,\n",
    ")"
   ],
   "metadata": {
    "id": "9Yc1f0u6sWz5"
   },
   "execution_count": 24,
   "outputs": []
  },
  {
   "cell_type": "code",
   "source": [
    "trainer.train()\n",
    "trainer.save_model(f'./trainings/{repo_name}/')"
   ],
   "metadata": {
    "colab": {
     "base_uri": "https://localhost:8080/",
     "height": 723,
     "referenced_widgets": [
      "cdac74662c6f45eaa38a44690a50e728",
      "47eeb67daa20488d932d397582c3fd18",
      "e53e8b59b44e4ffc85ecdc27ae775e59",
      "91bcd9193200443594f038db65329f4b",
      "112bbfd8cfe244cab04ea6d4ed6d993c",
      "d3e3734f158d431bacd0ed0f2c219437",
      "7e49c470db3947bdad98fde65290112e",
      "9cc984f4948146d4bfd4e12da87fc716",
      "1020d0ca340f4b6f95ada00207633214",
      "1b7a83010f3b4e9398cfb85adaf7cbb6",
      "76106e167c324334a8e77619fd8eb62c"
     ]
    },
    "id": "u5GiVX7-H-2A",
    "executionInfo": {
     "status": "ok",
     "timestamp": 1683263947519,
     "user_tz": 240,
     "elapsed": 886896,
     "user": {
      "displayName": "Tiago Santi",
      "userId": "02979615434612127801"
     }
    },
    "outputId": "2653916b-3051-449d-a8f5-f89521a22ac9"
   },
   "execution_count": null,
   "outputs": [
    {
     "output_type": "stream",
     "name": "stderr",
     "text": [
      "/usr/local/lib/python3.10/dist-packages/transformers/optimization.py:391: FutureWarning: This implementation of AdamW is deprecated and will be removed in a future version. Use the PyTorch implementation torch.optim.AdamW instead, or set `no_deprecation_warning=True` to disable this warning\n",
      "  warnings.warn(\n"
     ]
    },
    {
     "output_type": "display_data",
     "data": {
      "text/plain": [
       "  0%|          | 0/256 [00:00<?, ?it/s]"
      ],
      "application/vnd.jupyter.widget-view+json": {
       "version_major": 2,
       "version_minor": 0,
       "model_id": "cdac74662c6f45eaa38a44690a50e728"
      }
     },
     "metadata": {}
    },
    {
     "output_type": "stream",
     "name": "stderr",
     "text": [
      "\u001B[34m\u001B[1mwandb\u001B[0m: Currently logged in as: \u001B[33mtiagosanti\u001B[0m. Use \u001B[1m`wandb login --relogin`\u001B[0m to force relogin\n"
     ]
    },
    {
     "output_type": "display_data",
     "data": {
      "text/plain": [
       "<IPython.core.display.HTML object>"
      ],
      "text/html": [
       "Tracking run with wandb version 0.15.1"
      ]
     },
     "metadata": {}
    },
    {
     "output_type": "display_data",
     "data": {
      "text/plain": [
       "<IPython.core.display.HTML object>"
      ],
      "text/html": [
       "Run data is saved locally in <code>/content/drive/Othercomputers/Desktop/pantanal.dev/artificial-intelligence/wandb/run-20230505_050433-ln594g5h</code>"
      ]
     },
     "metadata": {}
    },
    {
     "output_type": "display_data",
     "data": {
      "text/plain": [
       "<IPython.core.display.HTML object>"
      ],
      "text/html": [
       "Syncing run <strong><a href='https://wandb.ai/tiagosanti/huggingface/runs/ln594g5h' target=\"_blank\">rebel-carrier-1</a></strong> to <a href='https://wandb.ai/tiagosanti/huggingface' target=\"_blank\">Weights & Biases</a> (<a href='https://wandb.me/run' target=\"_blank\">docs</a>)<br/>"
      ]
     },
     "metadata": {}
    },
    {
     "output_type": "display_data",
     "data": {
      "text/plain": [
       "<IPython.core.display.HTML object>"
      ],
      "text/html": [
       " View project at <a href='https://wandb.ai/tiagosanti/huggingface' target=\"_blank\">https://wandb.ai/tiagosanti/huggingface</a>"
      ]
     },
     "metadata": {}
    },
    {
     "output_type": "display_data",
     "data": {
      "text/plain": [
       "<IPython.core.display.HTML object>"
      ],
      "text/html": [
       " View run at <a href='https://wandb.ai/tiagosanti/huggingface/runs/ln594g5h' target=\"_blank\">https://wandb.ai/tiagosanti/huggingface/runs/ln594g5h</a>"
      ]
     },
     "metadata": {}
    },
    {
     "output_type": "display_data",
     "data": {
      "text/plain": [
       "<IPython.core.display.HTML object>"
      ],
      "text/html": [
       "\n",
       "    <div>\n",
       "      \n",
       "      <progress value='8430' max='8430' style='width:300px; height:20px; vertical-align: middle;'></progress>\n",
       "      [8430/8430 14:13, Epoch 15/15]\n",
       "    </div>\n",
       "    <table border=\"1\" class=\"dataframe\">\n",
       "  <thead>\n",
       " <tr style=\"text-align: left;\">\n",
       "      <th>Step</th>\n",
       "      <th>Training Loss</th>\n",
       "      <th>Validation Loss</th>\n",
       "      <th>Accuracy</th>\n",
       "      <th>F1</th>\n",
       "      <th>Precision</th>\n",
       "      <th>Recall</th>\n",
       "    </tr>\n",
       "  </thead>\n",
       "  <tbody>\n",
       "    <tr>\n",
       "      <td>7100</td>\n",
       "      <td>0.087200</td>\n",
       "      <td>1.132905</td>\n",
       "      <td>0.813539</td>\n",
       "      <td>0.813718</td>\n",
       "      <td>0.813973</td>\n",
       "      <td>0.813539</td>\n",
       "    </tr>\n",
       "    <tr>\n",
       "      <td>7200</td>\n",
       "      <td>0.059000</td>\n",
       "      <td>1.146720</td>\n",
       "      <td>0.814727</td>\n",
       "      <td>0.813474</td>\n",
       "      <td>0.813462</td>\n",
       "      <td>0.814727</td>\n",
       "    </tr>\n",
       "    <tr>\n",
       "      <td>7300</td>\n",
       "      <td>0.075400</td>\n",
       "      <td>1.164244</td>\n",
       "      <td>0.815914</td>\n",
       "      <td>0.815999</td>\n",
       "      <td>0.816469</td>\n",
       "      <td>0.815914</td>\n",
       "    </tr>\n",
       "    <tr>\n",
       "      <td>7400</td>\n",
       "      <td>0.078400</td>\n",
       "      <td>1.155364</td>\n",
       "      <td>0.814727</td>\n",
       "      <td>0.815442</td>\n",
       "      <td>0.816715</td>\n",
       "      <td>0.814727</td>\n",
       "    </tr>\n",
       "    <tr>\n",
       "      <td>7500</td>\n",
       "      <td>0.074100</td>\n",
       "      <td>1.164384</td>\n",
       "      <td>0.814727</td>\n",
       "      <td>0.814933</td>\n",
       "      <td>0.815365</td>\n",
       "      <td>0.814727</td>\n",
       "    </tr>\n",
       "    <tr>\n",
       "      <td>7600</td>\n",
       "      <td>0.076000</td>\n",
       "      <td>1.173463</td>\n",
       "      <td>0.809976</td>\n",
       "      <td>0.809783</td>\n",
       "      <td>0.810223</td>\n",
       "      <td>0.809976</td>\n",
       "    </tr>\n",
       "    <tr>\n",
       "      <td>7700</td>\n",
       "      <td>0.064300</td>\n",
       "      <td>1.167802</td>\n",
       "      <td>0.817102</td>\n",
       "      <td>0.817256</td>\n",
       "      <td>0.817445</td>\n",
       "      <td>0.817102</td>\n",
       "    </tr>\n",
       "    <tr>\n",
       "      <td>7800</td>\n",
       "      <td>0.075200</td>\n",
       "      <td>1.164049</td>\n",
       "      <td>0.817102</td>\n",
       "      <td>0.816001</td>\n",
       "      <td>0.815892</td>\n",
       "      <td>0.817102</td>\n",
       "    </tr>\n",
       "    <tr>\n",
       "      <td>7900</td>\n",
       "      <td>0.081400</td>\n",
       "      <td>1.163184</td>\n",
       "      <td>0.823040</td>\n",
       "      <td>0.822068</td>\n",
       "      <td>0.821985</td>\n",
       "      <td>0.823040</td>\n",
       "    </tr>\n",
       "    <tr>\n",
       "      <td>8000</td>\n",
       "      <td>0.055400</td>\n",
       "      <td>1.162783</td>\n",
       "      <td>0.822447</td>\n",
       "      <td>0.822216</td>\n",
       "      <td>0.822055</td>\n",
       "      <td>0.822447</td>\n",
       "    </tr>\n",
       "    <tr>\n",
       "      <td>8100</td>\n",
       "      <td>0.079200</td>\n",
       "      <td>1.175006</td>\n",
       "      <td>0.818884</td>\n",
       "      <td>0.818620</td>\n",
       "      <td>0.818551</td>\n",
       "      <td>0.818884</td>\n",
       "    </tr>\n",
       "    <tr>\n",
       "      <td>8200</td>\n",
       "      <td>0.077800</td>\n",
       "      <td>1.166954</td>\n",
       "      <td>0.821259</td>\n",
       "      <td>0.820748</td>\n",
       "      <td>0.820509</td>\n",
       "      <td>0.821259</td>\n",
       "    </tr>\n",
       "    <tr>\n",
       "      <td>8300</td>\n",
       "      <td>0.055900</td>\n",
       "      <td>1.164173</td>\n",
       "      <td>0.818290</td>\n",
       "      <td>0.817828</td>\n",
       "      <td>0.817555</td>\n",
       "      <td>0.818290</td>\n",
       "    </tr>\n",
       "    <tr>\n",
       "      <td>8400</td>\n",
       "      <td>0.058500</td>\n",
       "      <td>1.165630</td>\n",
       "      <td>0.822447</td>\n",
       "      <td>0.822271</td>\n",
       "      <td>0.822125</td>\n",
       "      <td>0.822447</td>\n",
       "    </tr>\n",
       "  </tbody>\n",
       "</table><p>"
      ]
     },
     "metadata": {}
    }
   ]
  },
  {
   "cell_type": "code",
   "source": [
    "wandb.finish()"
   ],
   "metadata": {
    "id": "l0dDoFFXH5SM",
    "colab": {
     "base_uri": "https://localhost:8080/"
    },
    "outputId": "7731ca88-95ef-4a96-a000-22326ad0774e"
   },
   "execution_count": null,
   "outputs": [
    {
     "output_type": "display_data",
     "data": {
      "text/plain": [
       "<IPython.core.display.HTML object>"
      ],
      "text/html": [
       "Waiting for W&B process to finish... <strong style=\"color:green\">(success).</strong>"
      ]
     },
     "metadata": {}
    },
    {
     "output_type": "display_data",
     "data": {
      "text/plain": [
       "<IPython.core.display.HTML object>"
      ],
      "text/html": [
       "<style>\n",
       "    table.wandb td:nth-child(1) { padding: 0 10px; text-align: left ; width: auto;} td:nth-child(2) {text-align: left ; width: 100%}\n",
       "    .wandb-row { display: flex; flex-direction: row; flex-wrap: wrap; justify-content: flex-start; width: 100% }\n",
       "    .wandb-col { display: flex; flex-direction: column; flex-basis: 100%; flex: 1; padding: 10px; }\n",
       "    </style>\n",
       "<div class=\"wandb-row\"><div class=\"wandb-col\"><h3>Run history:</h3><br/><table class=\"wandb\"><tr><td>eval/accuracy</td><td>▃▄▄▄▄▁▅▅██▆▇▅█</td></tr><tr><td>eval/f1</td><td>▃▃▄▄▄▁▅▄██▆▇▆█</td></tr><tr><td>eval/loss</td><td>▁▃▆▅▆█▇▆▆▆█▇▆▆</td></tr><tr><td>eval/precision</td><td>▃▃▅▅▄▁▅▄██▆▇▅█</td></tr><tr><td>eval/recall</td><td>▃▄▄▄▄▁▅▅██▆▇▅█</td></tr><tr><td>eval/runtime</td><td>█▁▆▂▂▃▆▆▃▄▄▂▃▂</td></tr><tr><td>eval/samples_per_second</td><td>▁█▃▇▇▆▃▃▆▅▅▇▆▇</td></tr><tr><td>eval/steps_per_second</td><td>▁█▃▇▇▆▃▃▆▅▅▇▆▇</td></tr><tr><td>train/epoch</td><td>▁▁▂▂▂▂▃▃▃▃▄▄▄▄▅▅▅▅▆▆▆▆▇▇▇▇███</td></tr><tr><td>train/global_step</td><td>▁▁▂▂▂▂▃▃▃▃▄▄▄▄▅▅▅▅▆▆▆▆▇▇▇▇███</td></tr><tr><td>train/learning_rate</td><td>█▇▇▆▆▅▅▄▄▃▃▂▂▁</td></tr><tr><td>train/loss</td><td>█▂▅▆▅▆▃▅▇▁▆▆▁▂</td></tr><tr><td>train/total_flos</td><td>▁</td></tr><tr><td>train/train_loss</td><td>▁</td></tr><tr><td>train/train_runtime</td><td>▁</td></tr><tr><td>train/train_samples_per_second</td><td>▁</td></tr><tr><td>train/train_steps_per_second</td><td>▁</td></tr></table><br/></div><div class=\"wandb-col\"><h3>Run summary:</h3><br/><table class=\"wandb\"><tr><td>eval/accuracy</td><td>0.82245</td></tr><tr><td>eval/f1</td><td>0.82227</td></tr><tr><td>eval/loss</td><td>1.16563</td></tr><tr><td>eval/precision</td><td>0.82213</td></tr><tr><td>eval/recall</td><td>0.82245</td></tr><tr><td>eval/runtime</td><td>17.3834</td></tr><tr><td>eval/samples_per_second</td><td>96.874</td></tr><tr><td>eval/steps_per_second</td><td>6.961</td></tr><tr><td>train/epoch</td><td>15.0</td></tr><tr><td>train/global_step</td><td>8430</td></tr><tr><td>train/learning_rate</td><td>0.0</td></tr><tr><td>train/loss</td><td>0.0585</td></tr><tr><td>train/total_flos</td><td>3.101317854759936e+16</td></tr><tr><td>train/train_loss</td><td>0.01202</td></tr><tr><td>train/train_runtime</td><td>870.0456</td></tr><tr><td>train/train_samples_per_second</td><td>135.476</td></tr><tr><td>train/train_steps_per_second</td><td>9.689</td></tr></table><br/></div></div>"
      ]
     },
     "metadata": {}
    }
   ]
  },
  {
   "cell_type": "code",
   "source": [
    "disconnect()"
   ],
   "metadata": {
    "id": "frpZOh9WCfte"
   },
   "execution_count": null,
   "outputs": []
  },
  {
   "cell_type": "markdown",
   "source": [
    "# Teste do modelo"
   ],
   "metadata": {
    "id": "QJgdA-di4l5r"
   }
  },
  {
   "cell_type": "code",
   "source": [
    "def test_model(model, test_df):\n",
    "    model.eval()\n",
    "    model.to(device)\n",
    "\n",
    "    test_df['pred'] = test_df['text'].apply(predict_sentiment, model=model)\n",
    "\n",
    "    precision, recall, f1, _ = precision_recall_fscore_support(test_df['label'], test_df['pred'], average='weighted')\n",
    "    acc = accuracy_score(test_df['label'], test_df['pred'])\n",
    "\n",
    "    print({\n",
    "        'accuracy': acc,\n",
    "        'f1': f1,\n",
    "        'precision': precision,\n",
    "        'recall': recall\n",
    "    })\n",
    "\n",
    "    test_df['diff'] = np.abs(test_df['label']-test_df['pred'])\n",
    "    agree = test_df[test_df['diff']==0]\n",
    "    partial_disagree = test_df[test_df['diff']==1]\n",
    "    disagree = test_df[test_df['diff']==2]\n",
    "\n",
    "    test_length = test_df.shape[0]\n",
    "    agree_count = agree.shape[0]\n",
    "    partial_disagree_count = partial_disagree.shape[0]\n",
    "    disagree_count = disagree.shape[0]\n",
    "\n",
    "    print(f'Concordância: {agree_count} ({agree_count/test_length*100:.2f}%)')\n",
    "    print(f'Discordância parcial: {partial_disagree_count} ({partial_disagree_count/test_length*100:.2f}%)')\n",
    "    print(f'Discordância: {disagree_count} ({disagree_count/test_length*100:.2f}%)')\n",
    "\n",
    "    return test_df, agree, partial_disagree, disagree"
   ],
   "metadata": {
    "id": "ethIdsyVDbcV",
    "executionInfo": {
     "status": "ok",
     "timestamp": 1683383116039,
     "user_tz": 240,
     "elapsed": 492,
     "user": {
      "displayName": "Tiago Santi",
      "userId": "02979615434612127801"
     }
    }
   },
   "execution_count": 15,
   "outputs": []
  },
  {
   "cell_type": "code",
   "source": [
    "repo_name = 'bert-base-multilingual-cased-06'\n",
    "model = BertForSequenceClassification.from_pretrained(f'./trainings/{repo_name}')\n",
    "tokenizer = BertTokenizer.from_pretrained(f'./trainings/{repo_name}')"
   ],
   "metadata": {
    "id": "y8AMx74_xGTN",
    "executionInfo": {
     "status": "ok",
     "timestamp": 1683383127256,
     "user_tz": 240,
     "elapsed": 10687,
     "user": {
      "displayName": "Tiago Santi",
      "userId": "02979615434612127801"
     }
    }
   },
   "execution_count": 16,
   "outputs": []
  },
  {
   "cell_type": "code",
   "source": [
    "%timeit predict_sentiment(test_df.loc[0, 'text'], model)"
   ],
   "metadata": {
    "id": "bj0ALMlSDKGg",
    "colab": {
     "base_uri": "https://localhost:8080/"
    },
    "executionInfo": {
     "status": "ok",
     "timestamp": 1683383127751,
     "user_tz": 240,
     "elapsed": 519,
     "user": {
      "displayName": "Tiago Santi",
      "userId": "02979615434612127801"
     }
    },
    "outputId": "9d137c95-ab7f-48ae-94d3-c40dbea4fd69"
   },
   "execution_count": 17,
   "outputs": [
    {
     "output_type": "stream",
     "name": "stderr",
     "text": [
      "Truncation was not explicitly activated but `max_length` is provided a specific value, please use `truncation=True` to explicitly truncate examples to max length. Defaulting to 'longest_first' truncation strategy. If you encode pairs of sequences (GLUE-style) with the tokenizer you can select this strategy more precisely by providing a specific strategy to `truncation`.\n"
     ]
    },
    {
     "output_type": "stream",
     "name": "stdout",
     "text": [
      "75.9 ms ± 3.46 ms per loop (mean ± std. dev. of 7 runs, 1 loop each)\n"
     ]
    }
   ]
  },
  {
   "cell_type": "code",
   "source": [
    "test_df, agree, partial_disagree, disagree = test_model(model, test_df)"
   ],
   "metadata": {
    "id": "vLE6qOg0EpyR",
    "colab": {
     "base_uri": "https://localhost:8080/"
    },
    "executionInfo": {
     "status": "ok",
     "timestamp": 1683383487842,
     "user_tz": 240,
     "elapsed": 360099,
     "user": {
      "displayName": "Tiago Santi",
      "userId": "02979615434612127801"
     }
    },
    "outputId": "6d4cb89d-7528-42a2-9b2f-5c1cacc7116d"
   },
   "execution_count": 18,
   "outputs": [
    {
     "output_type": "stream",
     "name": "stdout",
     "text": [
      "{'accuracy': 0.7903800475059383, 'f1': 0.7904945426416597, 'precision': 0.7906228046845624, 'recall': 0.7903800475059383}\n",
      "Concordância: 1331 (79.04%)\n",
      "Discordância parcial: 289 (17.16%)\n",
      "Discordância: 64 (3.80%)\n"
     ]
    }
   ]
  },
  {
   "cell_type": "code",
   "source": [
    "disagree.value_counts(subset=['font', 'lang'])/len(disagree)"
   ],
   "metadata": {
    "id": "KgW7v_tzMDxr",
    "colab": {
     "base_uri": "https://localhost:8080/"
    },
    "executionInfo": {
     "status": "ok",
     "timestamp": 1683383487846,
     "user_tz": 240,
     "elapsed": 73,
     "user": {
      "displayName": "Tiago Santi",
      "userId": "02979615434612127801"
     }
    },
    "outputId": "d5a48fde-2bd9-4683-d4e5-9948a658688e"
   },
   "execution_count": 19,
   "outputs": [
    {
     "output_type": "execute_result",
     "data": {
      "text/plain": [
       "font                     lang\n",
       "financial-phrase-bank    eng     0.250000\n",
       "                         ptbr    0.234375\n",
       "InfoMoney                ptbr    0.171875\n",
       "b3                       ptbr    0.093750\n",
       "Marília Notícia          ptbr    0.015625\n",
       "Valor Econômico          ptbr    0.015625\n",
       "Perfil Multi             ptbr    0.015625\n",
       "Notícias Concursos       ptbr    0.015625\n",
       "NBC Chicago              eng     0.015625\n",
       "Moneycontrol             eng     0.015625\n",
       "Band Jornalismo          ptbr    0.015625\n",
       "Benzinga                 eng     0.015625\n",
       "HYPEBEAST                eng     0.015625\n",
       "Edital Concursos Brasil  ptbr    0.015625\n",
       "Common Dreams            eng     0.015625\n",
       "Cointelegraph            eng     0.015625\n",
       "CoinDesk                 eng     0.015625\n",
       "Cageside Seats           eng     0.015625\n",
       "BleepingComputer         eng     0.015625\n",
       "Markets Insider          eng     0.015625\n",
       "dtype: float64"
      ]
     },
     "metadata": {},
     "execution_count": 19
    }
   ]
  },
  {
   "cell_type": "code",
   "source": [
    "partial_disagree.value_counts(subset=['font', 'lang'])/len(partial_disagree)"
   ],
   "metadata": {
    "id": "-3lahQaxMDxs",
    "colab": {
     "base_uri": "https://localhost:8080/"
    },
    "executionInfo": {
     "status": "ok",
     "timestamp": 1683383487854,
     "user_tz": 240,
     "elapsed": 69,
     "user": {
      "displayName": "Tiago Santi",
      "userId": "02979615434612127801"
     }
    },
    "outputId": "8b7b6d93-7838-4603-d4cc-c788499f5c72"
   },
   "execution_count": 20,
   "outputs": [
    {
     "output_type": "execute_result",
     "data": {
      "text/plain": [
       "font                   lang\n",
       "financial-phrase-bank  ptbr    0.352941\n",
       "InfoMoney              ptbr    0.211073\n",
       "b3                     ptbr    0.100346\n",
       "financial-phrase-bank  eng     0.051903\n",
       "Investing.com Brasil   ptbr    0.013841\n",
       "                                 ...   \n",
       "Firstpost              eng     0.003460\n",
       "Fox Business           eng     0.003460\n",
       "Globo                  ptbr    0.003460\n",
       "Ache Concursos         ptbr    0.003460\n",
       "Heritage.org           eng     0.003460\n",
       "Length: 65, dtype: float64"
      ]
     },
     "metadata": {},
     "execution_count": 20
    }
   ]
  },
  {
   "cell_type": "code",
   "source": [
    "agree.value_counts(subset=['font', 'lang'])/len(agree)"
   ],
   "metadata": {
    "id": "aaqzkqFcMDxs",
    "colab": {
     "base_uri": "https://localhost:8080/"
    },
    "executionInfo": {
     "status": "ok",
     "timestamp": 1683383487857,
     "user_tz": 240,
     "elapsed": 56,
     "user": {
      "displayName": "Tiago Santi",
      "userId": "02979615434612127801"
     }
    },
    "outputId": "7e6508d1-a5fe-444f-da6f-cacce3049573"
   },
   "execution_count": 21,
   "outputs": [
    {
     "output_type": "execute_result",
     "data": {
      "text/plain": [
       "font                      lang\n",
       "financial-phrase-bank     ptbr    0.444027\n",
       "                          eng     0.231405\n",
       "InfoMoney                 ptbr    0.099925\n",
       "b3                        ptbr    0.067618\n",
       "Bloomberg                 eng     0.006011\n",
       "                                    ...   \n",
       "Inteligência Financeira   ptbr    0.000751\n",
       "InsideEVs                 eng     0.000751\n",
       "Honolulu Star-Advertiser  eng     0.000751\n",
       "HT Tech                   eng     0.000751\n",
       "Época NEGÓCIOS            ptbr    0.000751\n",
       "Length: 130, dtype: float64"
      ]
     },
     "metadata": {},
     "execution_count": 21
    }
   ]
  },
  {
   "cell_type": "markdown",
   "source": [
    "# Model pruning"
   ],
   "metadata": {
    "id": "Mg6h64C5BmF0"
   }
  },
  {
   "cell_type": "code",
   "source": [
    "import torch.nn.utils.prune as prune"
   ],
   "metadata": {
    "id": "YWdFeFqzbb_Z",
    "executionInfo": {
     "status": "ok",
     "timestamp": 1683383487859,
     "user_tz": 240,
     "elapsed": 49,
     "user": {
      "displayName": "Tiago Santi",
      "userId": "02979615434612127801"
     }
    }
   },
   "execution_count": 22,
   "outputs": []
  },
  {
   "cell_type": "code",
   "source": [
    "pruning_rate = 0.2\n",
    "\n",
    "for name, module in model.named_modules():\n",
    "    if isinstance(module, torch.nn.Linear):\n",
    "        prune.l1_unstructured(module, name=\"weight\", amount=pruning_rate)\n",
    "        prune.remove(module, \"weight\")"
   ],
   "metadata": {
    "id": "vEZq8VqSCyGJ",
    "executionInfo": {
     "status": "ok",
     "timestamp": 1683383492519,
     "user_tz": 240,
     "elapsed": 4707,
     "user": {
      "displayName": "Tiago Santi",
      "userId": "02979615434612127801"
     }
    }
   },
   "execution_count": 23,
   "outputs": []
  },
  {
   "cell_type": "code",
   "source": [
    "model.eval()\n",
    "model_quantized = torch.quantization.quantize_dynamic(model, {torch.nn.Linear}, dtype=torch.qint8)"
   ],
   "metadata": {
    "id": "N9w6JptKDSZZ",
    "executionInfo": {
     "status": "ok",
     "timestamp": 1683383494462,
     "user_tz": 240,
     "elapsed": 1982,
     "user": {
      "displayName": "Tiago Santi",
      "userId": "02979615434612127801"
     }
    }
   },
   "execution_count": 24,
   "outputs": []
  },
  {
   "cell_type": "code",
   "source": [
    "model.save_pretrained(f'./trainings/{repo_name}/pruned/')\n",
    "tokenizer.save_pretrained(f'./trainings/{repo_name}/pruned/')"
   ],
   "metadata": {
    "id": "fXeRBv12Ll-E",
    "colab": {
     "base_uri": "https://localhost:8080/"
    },
    "executionInfo": {
     "status": "ok",
     "timestamp": 1683383504726,
     "user_tz": 240,
     "elapsed": 10285,
     "user": {
      "displayName": "Tiago Santi",
      "userId": "02979615434612127801"
     }
    },
    "outputId": "c5535141-1ff9-4e3d-9ec8-6952e93940ff"
   },
   "execution_count": 25,
   "outputs": [
    {
     "output_type": "execute_result",
     "data": {
      "text/plain": [
       "('./trainings/bert-base-multilingual-cased-06/pruned/tokenizer_config.json',\n",
       " './trainings/bert-base-multilingual-cased-06/pruned/special_tokens_map.json',\n",
       " './trainings/bert-base-multilingual-cased-06/pruned/vocab.txt',\n",
       " './trainings/bert-base-multilingual-cased-06/pruned/added_tokens.json')"
      ]
     },
     "metadata": {},
     "execution_count": 25
    }
   ]
  },
  {
   "cell_type": "code",
   "source": [
    "def model_size(model):\n",
    "    return sum(p.numel() for p in model.parameters() if p.requires_grad)\n",
    "\n",
    "original_size = model_size(model)\n",
    "quantized_size = model_size(model_quantized)\n",
    "\n",
    "print(f\"Modelo original: {original_size} parâmetros\")\n",
    "print(f\"Modelo quantizado: {quantized_size} parâmetros\")"
   ],
   "metadata": {
    "id": "-FC6fhGRDUda",
    "colab": {
     "base_uri": "https://localhost:8080/"
    },
    "executionInfo": {
     "status": "ok",
     "timestamp": 1683383504732,
     "user_tz": 240,
     "elapsed": 41,
     "user": {
      "displayName": "Tiago Santi",
      "userId": "02979615434612127801"
     }
    },
    "outputId": "420b08dc-349a-4d90-e093-f358ff973037"
   },
   "execution_count": 26,
   "outputs": [
    {
     "output_type": "stream",
     "name": "stdout",
     "text": [
      "Modelo original: 177855747 parâmetros\n",
      "Modelo quantizado: 92245248 parâmetros\n"
     ]
    }
   ]
  },
  {
   "cell_type": "code",
   "source": [
    "%timeit predict_sentiment(test_df.loc[0, 'text'], model_quantized)"
   ],
   "metadata": {
    "id": "UfwTgDSnFrJg",
    "colab": {
     "base_uri": "https://localhost:8080/"
    },
    "executionInfo": {
     "status": "ok",
     "timestamp": 1683383508897,
     "user_tz": 240,
     "elapsed": 4195,
     "user": {
      "displayName": "Tiago Santi",
      "userId": "02979615434612127801"
     }
    },
    "outputId": "08b81340-3cfd-4c82-81c6-8f37de8fa7c6"
   },
   "execution_count": 27,
   "outputs": [
    {
     "output_type": "stream",
     "name": "stdout",
     "text": [
      "47.2 ms ± 6.7 ms per loop (mean ± std. dev. of 7 runs, 10 loops each)\n"
     ]
    }
   ]
  },
  {
   "cell_type": "code",
   "source": [
    "test_df, agree, partial_disagree, disagree = test_model(model_quantized, test_df)"
   ],
   "metadata": {
    "id": "uQLtWEwxDWhJ",
    "colab": {
     "base_uri": "https://localhost:8080/"
    },
    "outputId": "5bf80acd-bead-458e-83f2-f650784caca7",
    "executionInfo": {
     "status": "ok",
     "timestamp": 1683383746837,
     "user_tz": 240,
     "elapsed": 237972,
     "user": {
      "displayName": "Tiago Santi",
      "userId": "02979615434612127801"
     }
    }
   },
   "execution_count": 28,
   "outputs": [
    {
     "output_type": "stream",
     "name": "stdout",
     "text": [
      "{'accuracy': 0.744061757719715, 'f1': 0.7450983191393848, 'precision': 0.7514787729617975, 'recall': 0.744061757719715}\n",
      "Concordância: 1253 (74.41%)\n",
      "Discordância parcial: 347 (20.61%)\n",
      "Discordância: 84 (4.99%)\n"
     ]
    }
   ]
  },
  {
   "cell_type": "code",
   "source": [
    "disagree.value_counts(subset=['font', 'lang'])/len(disagree)"
   ],
   "metadata": {
    "id": "THlV7i84J33e",
    "colab": {
     "base_uri": "https://localhost:8080/"
    },
    "executionInfo": {
     "status": "ok",
     "timestamp": 1683383746841,
     "user_tz": 240,
     "elapsed": 109,
     "user": {
      "displayName": "Tiago Santi",
      "userId": "02979615434612127801"
     }
    },
    "outputId": "2d910136-5117-4575-d740-1cfd96e0a445"
   },
   "execution_count": 29,
   "outputs": [
    {
     "output_type": "execute_result",
     "data": {
      "text/plain": [
       "font                   lang\n",
       "financial-phrase-bank  ptbr    0.297619\n",
       "b3                     ptbr    0.202381\n",
       "InfoMoney              ptbr    0.130952\n",
       "financial-phrase-bank  eng     0.119048\n",
       "Markets Insider        eng     0.011905\n",
       "Variety                eng     0.011905\n",
       "Valor Econômico        ptbr    0.011905\n",
       "The New York Times     eng     0.011905\n",
       "Portal do Bitcoin      ptbr    0.011905\n",
       "Notícias Concursos     ptbr    0.011905\n",
       "NBC Chicago            eng     0.011905\n",
       "Moneycontrol           eng     0.011905\n",
       "Marília Notícia        ptbr    0.011905\n",
       "Bahia Notícias         ptbr    0.011905\n",
       "Barchart               eng     0.011905\n",
       "InsideEVs              eng     0.011905\n",
       "HYPEBEAST              eng     0.011905\n",
       "Common Dreams          eng     0.011905\n",
       "Cointelegraph          eng     0.011905\n",
       "CoinDesk               eng     0.011905\n",
       "Cageside Seats         eng     0.011905\n",
       "CBS Boston             eng     0.011905\n",
       "BleepingComputer       eng     0.011905\n",
       "Benzinga               eng     0.011905\n",
       "MarketWatch            eng     0.011905\n",
       "dtype: float64"
      ]
     },
     "metadata": {},
     "execution_count": 29
    }
   ]
  },
  {
   "cell_type": "code",
   "source": [
    "partial_disagree.value_counts(subset=['font', 'lang'])/len(partial_disagree)"
   ],
   "metadata": {
    "id": "bYArmKXjJ33f",
    "colab": {
     "base_uri": "https://localhost:8080/"
    },
    "executionInfo": {
     "status": "ok",
     "timestamp": 1683383746859,
     "user_tz": 240,
     "elapsed": 118,
     "user": {
      "displayName": "Tiago Santi",
      "userId": "02979615434612127801"
     }
    },
    "outputId": "c5bcbffb-810b-402c-ab28-61a1c8e1320e"
   },
   "execution_count": 30,
   "outputs": [
    {
     "output_type": "execute_result",
     "data": {
      "text/plain": [
       "font                      lang\n",
       "financial-phrase-bank     ptbr    0.377522\n",
       "InfoMoney                 ptbr    0.187320\n",
       "b3                        ptbr    0.097983\n",
       "financial-phrase-bank     eng     0.063401\n",
       "Reuters                   eng     0.014409\n",
       "                                    ...   \n",
       "KPRC Click2Houston        eng     0.002882\n",
       "KTVU FOX 2 San Francisco  eng     0.002882\n",
       "AOL                       eng     0.002882\n",
       "Meu Timão                 ptbr    0.002882\n",
       "Longview News-Journal     eng     0.002882\n",
       "Length: 75, dtype: float64"
      ]
     },
     "metadata": {},
     "execution_count": 30
    }
   ]
  },
  {
   "cell_type": "code",
   "source": [
    "agree.value_counts(subset=['font', 'lang'])/len(agree)"
   ],
   "metadata": {
    "id": "cL_WuTy_J33g",
    "colab": {
     "base_uri": "https://localhost:8080/"
    },
    "executionInfo": {
     "status": "ok",
     "timestamp": 1683383746863,
     "user_tz": 240,
     "elapsed": 107,
     "user": {
      "displayName": "Tiago Santi",
      "userId": "02979615434612127801"
     }
    },
    "outputId": "6b752d73-a5f2-43af-a7e9-d14cd07dc052"
   },
   "execution_count": 31,
   "outputs": [
    {
     "output_type": "execute_result",
     "data": {
      "text/plain": [
       "font                   lang\n",
       "financial-phrase-bank  ptbr    0.440543\n",
       "                       eng     0.245012\n",
       "InfoMoney              ptbr    0.102953\n",
       "b3                     ptbr    0.059058\n",
       "Investing.com Brasil   ptbr    0.007183\n",
       "                                 ...   \n",
       "GamesIndustry.biz      eng     0.000798\n",
       "G1                     ptbr    0.000798\n",
       "Fortune                eng     0.000798\n",
       "Forbes Brasil          ptbr    0.000798\n",
       "Época NEGÓCIOS         ptbr    0.000798\n",
       "Length: 119, dtype: float64"
      ]
     },
     "metadata": {},
     "execution_count": 31
    }
   ]
  },
  {
   "cell_type": "code",
   "source": [
    "disconnect()"
   ],
   "metadata": {
    "id": "OKmnpHLiXho7",
    "executionInfo": {
     "status": "ok",
     "timestamp": 1683383746868,
     "user_tz": 240,
     "elapsed": 102,
     "user": {
      "displayName": "Tiago Santi",
      "userId": "02979615434612127801"
     }
    }
   },
   "execution_count": 32,
   "outputs": []
  },
  {
   "cell_type": "code",
   "source": [],
   "metadata": {
    "id": "RSlEjE70XjBj"
   },
   "execution_count": null,
   "outputs": []
  }
 ],
 "metadata": {
  "colab": {
   "provenance": [],
   "machine_shape": "hm",
   "gpuType": "V100"
  },
  "gpuClass": "standard",
  "kernelspec": {
   "display_name": "Python 3",
   "name": "python3"
  },
  "language_info": {
   "name": "python"
  },
  "widgets": {
   "application/vnd.jupyter.widget-state+json": {
    "96d8a89371014718ab6079a8b2ade8d1": {
     "model_module": "@jupyter-widgets/controls",
     "model_name": "HBoxModel",
     "model_module_version": "1.5.0",
     "state": {
      "_dom_classes": [],
      "_model_module": "@jupyter-widgets/controls",
      "_model_module_version": "1.5.0",
      "_model_name": "HBoxModel",
      "_view_count": null,
      "_view_module": "@jupyter-widgets/controls",
      "_view_module_version": "1.5.0",
      "_view_name": "HBoxView",
      "box_style": "",
      "children": [
       "IPY_MODEL_43a0b22dff5e4f79af2259e207ec8e76",
       "IPY_MODEL_d9407947e239422ba05e4120a1a82ea5",
       "IPY_MODEL_9e2b367217464e0596df21ffcf9c3e4e"
      ],
      "layout": "IPY_MODEL_ca842560abd846a1ae0eb4cbba03c92e"
     }
    },
    "43a0b22dff5e4f79af2259e207ec8e76": {
     "model_module": "@jupyter-widgets/controls",
     "model_name": "HTMLModel",
     "model_module_version": "1.5.0",
     "state": {
      "_dom_classes": [],
      "_model_module": "@jupyter-widgets/controls",
      "_model_module_version": "1.5.0",
      "_model_name": "HTMLModel",
      "_view_count": null,
      "_view_module": "@jupyter-widgets/controls",
      "_view_module_version": "1.5.0",
      "_view_name": "HTMLView",
      "description": "",
      "description_tooltip": null,
      "layout": "IPY_MODEL_d18f95309b7741e4a8a8e470002fcca6",
      "placeholder": "​",
      "style": "IPY_MODEL_c038afef7fc94dbb936386071aa9fbd7",
      "value": "Map: 100%"
     }
    },
    "d9407947e239422ba05e4120a1a82ea5": {
     "model_module": "@jupyter-widgets/controls",
     "model_name": "FloatProgressModel",
     "model_module_version": "1.5.0",
     "state": {
      "_dom_classes": [],
      "_model_module": "@jupyter-widgets/controls",
      "_model_module_version": "1.5.0",
      "_model_name": "FloatProgressModel",
      "_view_count": null,
      "_view_module": "@jupyter-widgets/controls",
      "_view_module_version": "1.5.0",
      "_view_name": "ProgressView",
      "bar_style": "",
      "description": "",
      "description_tooltip": null,
      "layout": "IPY_MODEL_bc8804ba57344b138113d97127f9769c",
      "max": 7858,
      "min": 0,
      "orientation": "horizontal",
      "style": "IPY_MODEL_31e005202dbc4c84a23bbb8946b64ae6",
      "value": 7858
     }
    },
    "9e2b367217464e0596df21ffcf9c3e4e": {
     "model_module": "@jupyter-widgets/controls",
     "model_name": "HTMLModel",
     "model_module_version": "1.5.0",
     "state": {
      "_dom_classes": [],
      "_model_module": "@jupyter-widgets/controls",
      "_model_module_version": "1.5.0",
      "_model_name": "HTMLModel",
      "_view_count": null,
      "_view_module": "@jupyter-widgets/controls",
      "_view_module_version": "1.5.0",
      "_view_name": "HTMLView",
      "description": "",
      "description_tooltip": null,
      "layout": "IPY_MODEL_9ccf975eca9d466c81a976f45325b8d2",
      "placeholder": "​",
      "style": "IPY_MODEL_70e9fb9147d34145862282f36fa0346f",
      "value": " 7858/7858 [00:08&lt;00:00, 918.47 examples/s]"
     }
    },
    "ca842560abd846a1ae0eb4cbba03c92e": {
     "model_module": "@jupyter-widgets/base",
     "model_name": "LayoutModel",
     "model_module_version": "1.2.0",
     "state": {
      "_model_module": "@jupyter-widgets/base",
      "_model_module_version": "1.2.0",
      "_model_name": "LayoutModel",
      "_view_count": null,
      "_view_module": "@jupyter-widgets/base",
      "_view_module_version": "1.2.0",
      "_view_name": "LayoutView",
      "align_content": null,
      "align_items": null,
      "align_self": null,
      "border": null,
      "bottom": null,
      "display": null,
      "flex": null,
      "flex_flow": null,
      "grid_area": null,
      "grid_auto_columns": null,
      "grid_auto_flow": null,
      "grid_auto_rows": null,
      "grid_column": null,
      "grid_gap": null,
      "grid_row": null,
      "grid_template_areas": null,
      "grid_template_columns": null,
      "grid_template_rows": null,
      "height": null,
      "justify_content": null,
      "justify_items": null,
      "left": null,
      "margin": null,
      "max_height": null,
      "max_width": null,
      "min_height": null,
      "min_width": null,
      "object_fit": null,
      "object_position": null,
      "order": null,
      "overflow": null,
      "overflow_x": null,
      "overflow_y": null,
      "padding": null,
      "right": null,
      "top": null,
      "visibility": "hidden",
      "width": null
     }
    },
    "d18f95309b7741e4a8a8e470002fcca6": {
     "model_module": "@jupyter-widgets/base",
     "model_name": "LayoutModel",
     "model_module_version": "1.2.0",
     "state": {
      "_model_module": "@jupyter-widgets/base",
      "_model_module_version": "1.2.0",
      "_model_name": "LayoutModel",
      "_view_count": null,
      "_view_module": "@jupyter-widgets/base",
      "_view_module_version": "1.2.0",
      "_view_name": "LayoutView",
      "align_content": null,
      "align_items": null,
      "align_self": null,
      "border": null,
      "bottom": null,
      "display": null,
      "flex": null,
      "flex_flow": null,
      "grid_area": null,
      "grid_auto_columns": null,
      "grid_auto_flow": null,
      "grid_auto_rows": null,
      "grid_column": null,
      "grid_gap": null,
      "grid_row": null,
      "grid_template_areas": null,
      "grid_template_columns": null,
      "grid_template_rows": null,
      "height": null,
      "justify_content": null,
      "justify_items": null,
      "left": null,
      "margin": null,
      "max_height": null,
      "max_width": null,
      "min_height": null,
      "min_width": null,
      "object_fit": null,
      "object_position": null,
      "order": null,
      "overflow": null,
      "overflow_x": null,
      "overflow_y": null,
      "padding": null,
      "right": null,
      "top": null,
      "visibility": null,
      "width": null
     }
    },
    "c038afef7fc94dbb936386071aa9fbd7": {
     "model_module": "@jupyter-widgets/controls",
     "model_name": "DescriptionStyleModel",
     "model_module_version": "1.5.0",
     "state": {
      "_model_module": "@jupyter-widgets/controls",
      "_model_module_version": "1.5.0",
      "_model_name": "DescriptionStyleModel",
      "_view_count": null,
      "_view_module": "@jupyter-widgets/base",
      "_view_module_version": "1.2.0",
      "_view_name": "StyleView",
      "description_width": ""
     }
    },
    "bc8804ba57344b138113d97127f9769c": {
     "model_module": "@jupyter-widgets/base",
     "model_name": "LayoutModel",
     "model_module_version": "1.2.0",
     "state": {
      "_model_module": "@jupyter-widgets/base",
      "_model_module_version": "1.2.0",
      "_model_name": "LayoutModel",
      "_view_count": null,
      "_view_module": "@jupyter-widgets/base",
      "_view_module_version": "1.2.0",
      "_view_name": "LayoutView",
      "align_content": null,
      "align_items": null,
      "align_self": null,
      "border": null,
      "bottom": null,
      "display": null,
      "flex": null,
      "flex_flow": null,
      "grid_area": null,
      "grid_auto_columns": null,
      "grid_auto_flow": null,
      "grid_auto_rows": null,
      "grid_column": null,
      "grid_gap": null,
      "grid_row": null,
      "grid_template_areas": null,
      "grid_template_columns": null,
      "grid_template_rows": null,
      "height": null,
      "justify_content": null,
      "justify_items": null,
      "left": null,
      "margin": null,
      "max_height": null,
      "max_width": null,
      "min_height": null,
      "min_width": null,
      "object_fit": null,
      "object_position": null,
      "order": null,
      "overflow": null,
      "overflow_x": null,
      "overflow_y": null,
      "padding": null,
      "right": null,
      "top": null,
      "visibility": null,
      "width": null
     }
    },
    "31e005202dbc4c84a23bbb8946b64ae6": {
     "model_module": "@jupyter-widgets/controls",
     "model_name": "ProgressStyleModel",
     "model_module_version": "1.5.0",
     "state": {
      "_model_module": "@jupyter-widgets/controls",
      "_model_module_version": "1.5.0",
      "_model_name": "ProgressStyleModel",
      "_view_count": null,
      "_view_module": "@jupyter-widgets/base",
      "_view_module_version": "1.2.0",
      "_view_name": "StyleView",
      "bar_color": null,
      "description_width": ""
     }
    },
    "9ccf975eca9d466c81a976f45325b8d2": {
     "model_module": "@jupyter-widgets/base",
     "model_name": "LayoutModel",
     "model_module_version": "1.2.0",
     "state": {
      "_model_module": "@jupyter-widgets/base",
      "_model_module_version": "1.2.0",
      "_model_name": "LayoutModel",
      "_view_count": null,
      "_view_module": "@jupyter-widgets/base",
      "_view_module_version": "1.2.0",
      "_view_name": "LayoutView",
      "align_content": null,
      "align_items": null,
      "align_self": null,
      "border": null,
      "bottom": null,
      "display": null,
      "flex": null,
      "flex_flow": null,
      "grid_area": null,
      "grid_auto_columns": null,
      "grid_auto_flow": null,
      "grid_auto_rows": null,
      "grid_column": null,
      "grid_gap": null,
      "grid_row": null,
      "grid_template_areas": null,
      "grid_template_columns": null,
      "grid_template_rows": null,
      "height": null,
      "justify_content": null,
      "justify_items": null,
      "left": null,
      "margin": null,
      "max_height": null,
      "max_width": null,
      "min_height": null,
      "min_width": null,
      "object_fit": null,
      "object_position": null,
      "order": null,
      "overflow": null,
      "overflow_x": null,
      "overflow_y": null,
      "padding": null,
      "right": null,
      "top": null,
      "visibility": null,
      "width": null
     }
    },
    "70e9fb9147d34145862282f36fa0346f": {
     "model_module": "@jupyter-widgets/controls",
     "model_name": "DescriptionStyleModel",
     "model_module_version": "1.5.0",
     "state": {
      "_model_module": "@jupyter-widgets/controls",
      "_model_module_version": "1.5.0",
      "_model_name": "DescriptionStyleModel",
      "_view_count": null,
      "_view_module": "@jupyter-widgets/base",
      "_view_module_version": "1.2.0",
      "_view_name": "StyleView",
      "description_width": ""
     }
    },
    "9594143c8c40417fb771d9a124d393e2": {
     "model_module": "@jupyter-widgets/controls",
     "model_name": "HBoxModel",
     "model_module_version": "1.5.0",
     "state": {
      "_dom_classes": [],
      "_model_module": "@jupyter-widgets/controls",
      "_model_module_version": "1.5.0",
      "_model_name": "HBoxModel",
      "_view_count": null,
      "_view_module": "@jupyter-widgets/controls",
      "_view_module_version": "1.5.0",
      "_view_name": "HBoxView",
      "box_style": "",
      "children": [
       "IPY_MODEL_76ef919b1e974d73a662eb59de9d964b",
       "IPY_MODEL_55ff3a7dc51c4fada5f5286fd6709772",
       "IPY_MODEL_b1b9ab2db4744880844d1fa827090d62"
      ],
      "layout": "IPY_MODEL_1b2e16d09d0d45b6997152c61339876a"
     }
    },
    "76ef919b1e974d73a662eb59de9d964b": {
     "model_module": "@jupyter-widgets/controls",
     "model_name": "HTMLModel",
     "model_module_version": "1.5.0",
     "state": {
      "_dom_classes": [],
      "_model_module": "@jupyter-widgets/controls",
      "_model_module_version": "1.5.0",
      "_model_name": "HTMLModel",
      "_view_count": null,
      "_view_module": "@jupyter-widgets/controls",
      "_view_module_version": "1.5.0",
      "_view_name": "HTMLView",
      "description": "",
      "description_tooltip": null,
      "layout": "IPY_MODEL_2507954a3565483f96f47425da2587d3",
      "placeholder": "​",
      "style": "IPY_MODEL_78c900400ce640beba0fbdb31fd90722",
      "value": "Map: 100%"
     }
    },
    "55ff3a7dc51c4fada5f5286fd6709772": {
     "model_module": "@jupyter-widgets/controls",
     "model_name": "FloatProgressModel",
     "model_module_version": "1.5.0",
     "state": {
      "_dom_classes": [],
      "_model_module": "@jupyter-widgets/controls",
      "_model_module_version": "1.5.0",
      "_model_name": "FloatProgressModel",
      "_view_count": null,
      "_view_module": "@jupyter-widgets/controls",
      "_view_module_version": "1.5.0",
      "_view_name": "ProgressView",
      "bar_style": "",
      "description": "",
      "description_tooltip": null,
      "layout": "IPY_MODEL_6597c60b005d4d19a7f1f4d44f48ac45",
      "max": 1684,
      "min": 0,
      "orientation": "horizontal",
      "style": "IPY_MODEL_128bae66b65a4287b97545c96ba2b39d",
      "value": 1684
     }
    },
    "b1b9ab2db4744880844d1fa827090d62": {
     "model_module": "@jupyter-widgets/controls",
     "model_name": "HTMLModel",
     "model_module_version": "1.5.0",
     "state": {
      "_dom_classes": [],
      "_model_module": "@jupyter-widgets/controls",
      "_model_module_version": "1.5.0",
      "_model_name": "HTMLModel",
      "_view_count": null,
      "_view_module": "@jupyter-widgets/controls",
      "_view_module_version": "1.5.0",
      "_view_name": "HTMLView",
      "description": "",
      "description_tooltip": null,
      "layout": "IPY_MODEL_9fd08cb141bd4957a993c2f21a5a144d",
      "placeholder": "​",
      "style": "IPY_MODEL_7c59ca5e39424efd9029aed2e775fafd",
      "value": " 1684/1684 [00:01&lt;00:00, 941.93 examples/s]"
     }
    },
    "1b2e16d09d0d45b6997152c61339876a": {
     "model_module": "@jupyter-widgets/base",
     "model_name": "LayoutModel",
     "model_module_version": "1.2.0",
     "state": {
      "_model_module": "@jupyter-widgets/base",
      "_model_module_version": "1.2.0",
      "_model_name": "LayoutModel",
      "_view_count": null,
      "_view_module": "@jupyter-widgets/base",
      "_view_module_version": "1.2.0",
      "_view_name": "LayoutView",
      "align_content": null,
      "align_items": null,
      "align_self": null,
      "border": null,
      "bottom": null,
      "display": null,
      "flex": null,
      "flex_flow": null,
      "grid_area": null,
      "grid_auto_columns": null,
      "grid_auto_flow": null,
      "grid_auto_rows": null,
      "grid_column": null,
      "grid_gap": null,
      "grid_row": null,
      "grid_template_areas": null,
      "grid_template_columns": null,
      "grid_template_rows": null,
      "height": null,
      "justify_content": null,
      "justify_items": null,
      "left": null,
      "margin": null,
      "max_height": null,
      "max_width": null,
      "min_height": null,
      "min_width": null,
      "object_fit": null,
      "object_position": null,
      "order": null,
      "overflow": null,
      "overflow_x": null,
      "overflow_y": null,
      "padding": null,
      "right": null,
      "top": null,
      "visibility": "hidden",
      "width": null
     }
    },
    "2507954a3565483f96f47425da2587d3": {
     "model_module": "@jupyter-widgets/base",
     "model_name": "LayoutModel",
     "model_module_version": "1.2.0",
     "state": {
      "_model_module": "@jupyter-widgets/base",
      "_model_module_version": "1.2.0",
      "_model_name": "LayoutModel",
      "_view_count": null,
      "_view_module": "@jupyter-widgets/base",
      "_view_module_version": "1.2.0",
      "_view_name": "LayoutView",
      "align_content": null,
      "align_items": null,
      "align_self": null,
      "border": null,
      "bottom": null,
      "display": null,
      "flex": null,
      "flex_flow": null,
      "grid_area": null,
      "grid_auto_columns": null,
      "grid_auto_flow": null,
      "grid_auto_rows": null,
      "grid_column": null,
      "grid_gap": null,
      "grid_row": null,
      "grid_template_areas": null,
      "grid_template_columns": null,
      "grid_template_rows": null,
      "height": null,
      "justify_content": null,
      "justify_items": null,
      "left": null,
      "margin": null,
      "max_height": null,
      "max_width": null,
      "min_height": null,
      "min_width": null,
      "object_fit": null,
      "object_position": null,
      "order": null,
      "overflow": null,
      "overflow_x": null,
      "overflow_y": null,
      "padding": null,
      "right": null,
      "top": null,
      "visibility": null,
      "width": null
     }
    },
    "78c900400ce640beba0fbdb31fd90722": {
     "model_module": "@jupyter-widgets/controls",
     "model_name": "DescriptionStyleModel",
     "model_module_version": "1.5.0",
     "state": {
      "_model_module": "@jupyter-widgets/controls",
      "_model_module_version": "1.5.0",
      "_model_name": "DescriptionStyleModel",
      "_view_count": null,
      "_view_module": "@jupyter-widgets/base",
      "_view_module_version": "1.2.0",
      "_view_name": "StyleView",
      "description_width": ""
     }
    },
    "6597c60b005d4d19a7f1f4d44f48ac45": {
     "model_module": "@jupyter-widgets/base",
     "model_name": "LayoutModel",
     "model_module_version": "1.2.0",
     "state": {
      "_model_module": "@jupyter-widgets/base",
      "_model_module_version": "1.2.0",
      "_model_name": "LayoutModel",
      "_view_count": null,
      "_view_module": "@jupyter-widgets/base",
      "_view_module_version": "1.2.0",
      "_view_name": "LayoutView",
      "align_content": null,
      "align_items": null,
      "align_self": null,
      "border": null,
      "bottom": null,
      "display": null,
      "flex": null,
      "flex_flow": null,
      "grid_area": null,
      "grid_auto_columns": null,
      "grid_auto_flow": null,
      "grid_auto_rows": null,
      "grid_column": null,
      "grid_gap": null,
      "grid_row": null,
      "grid_template_areas": null,
      "grid_template_columns": null,
      "grid_template_rows": null,
      "height": null,
      "justify_content": null,
      "justify_items": null,
      "left": null,
      "margin": null,
      "max_height": null,
      "max_width": null,
      "min_height": null,
      "min_width": null,
      "object_fit": null,
      "object_position": null,
      "order": null,
      "overflow": null,
      "overflow_x": null,
      "overflow_y": null,
      "padding": null,
      "right": null,
      "top": null,
      "visibility": null,
      "width": null
     }
    },
    "128bae66b65a4287b97545c96ba2b39d": {
     "model_module": "@jupyter-widgets/controls",
     "model_name": "ProgressStyleModel",
     "model_module_version": "1.5.0",
     "state": {
      "_model_module": "@jupyter-widgets/controls",
      "_model_module_version": "1.5.0",
      "_model_name": "ProgressStyleModel",
      "_view_count": null,
      "_view_module": "@jupyter-widgets/base",
      "_view_module_version": "1.2.0",
      "_view_name": "StyleView",
      "bar_color": null,
      "description_width": ""
     }
    },
    "9fd08cb141bd4957a993c2f21a5a144d": {
     "model_module": "@jupyter-widgets/base",
     "model_name": "LayoutModel",
     "model_module_version": "1.2.0",
     "state": {
      "_model_module": "@jupyter-widgets/base",
      "_model_module_version": "1.2.0",
      "_model_name": "LayoutModel",
      "_view_count": null,
      "_view_module": "@jupyter-widgets/base",
      "_view_module_version": "1.2.0",
      "_view_name": "LayoutView",
      "align_content": null,
      "align_items": null,
      "align_self": null,
      "border": null,
      "bottom": null,
      "display": null,
      "flex": null,
      "flex_flow": null,
      "grid_area": null,
      "grid_auto_columns": null,
      "grid_auto_flow": null,
      "grid_auto_rows": null,
      "grid_column": null,
      "grid_gap": null,
      "grid_row": null,
      "grid_template_areas": null,
      "grid_template_columns": null,
      "grid_template_rows": null,
      "height": null,
      "justify_content": null,
      "justify_items": null,
      "left": null,
      "margin": null,
      "max_height": null,
      "max_width": null,
      "min_height": null,
      "min_width": null,
      "object_fit": null,
      "object_position": null,
      "order": null,
      "overflow": null,
      "overflow_x": null,
      "overflow_y": null,
      "padding": null,
      "right": null,
      "top": null,
      "visibility": null,
      "width": null
     }
    },
    "7c59ca5e39424efd9029aed2e775fafd": {
     "model_module": "@jupyter-widgets/controls",
     "model_name": "DescriptionStyleModel",
     "model_module_version": "1.5.0",
     "state": {
      "_model_module": "@jupyter-widgets/controls",
      "_model_module_version": "1.5.0",
      "_model_name": "DescriptionStyleModel",
      "_view_count": null,
      "_view_module": "@jupyter-widgets/base",
      "_view_module_version": "1.2.0",
      "_view_name": "StyleView",
      "description_width": ""
     }
    },
    "fd5cf267023c46efb435a2a784d088b7": {
     "model_module": "@jupyter-widgets/controls",
     "model_name": "HBoxModel",
     "model_module_version": "1.5.0",
     "state": {
      "_dom_classes": [],
      "_model_module": "@jupyter-widgets/controls",
      "_model_module_version": "1.5.0",
      "_model_name": "HBoxModel",
      "_view_count": null,
      "_view_module": "@jupyter-widgets/controls",
      "_view_module_version": "1.5.0",
      "_view_name": "HBoxView",
      "box_style": "",
      "children": [
       "IPY_MODEL_76a18da8fb934a3cb2adf03a5ee050fd",
       "IPY_MODEL_c8371f5d1c4c4452a6a3ccfdbe446c90",
       "IPY_MODEL_8f736179731c42d98c389b1f6c32bf6b"
      ],
      "layout": "IPY_MODEL_a821ff68d2fd4fcf8330da101292060b"
     }
    },
    "76a18da8fb934a3cb2adf03a5ee050fd": {
     "model_module": "@jupyter-widgets/controls",
     "model_name": "HTMLModel",
     "model_module_version": "1.5.0",
     "state": {
      "_dom_classes": [],
      "_model_module": "@jupyter-widgets/controls",
      "_model_module_version": "1.5.0",
      "_model_name": "HTMLModel",
      "_view_count": null,
      "_view_module": "@jupyter-widgets/controls",
      "_view_module_version": "1.5.0",
      "_view_name": "HTMLView",
      "description": "",
      "description_tooltip": null,
      "layout": "IPY_MODEL_6b3453d91af844b0a32d8ac097900ec2",
      "placeholder": "​",
      "style": "IPY_MODEL_6361a1aef4794864a7630b19d0bee792",
      "value": "Map: 100%"
     }
    },
    "c8371f5d1c4c4452a6a3ccfdbe446c90": {
     "model_module": "@jupyter-widgets/controls",
     "model_name": "FloatProgressModel",
     "model_module_version": "1.5.0",
     "state": {
      "_dom_classes": [],
      "_model_module": "@jupyter-widgets/controls",
      "_model_module_version": "1.5.0",
      "_model_name": "FloatProgressModel",
      "_view_count": null,
      "_view_module": "@jupyter-widgets/controls",
      "_view_module_version": "1.5.0",
      "_view_name": "ProgressView",
      "bar_style": "",
      "description": "",
      "description_tooltip": null,
      "layout": "IPY_MODEL_69ed45537afc4e30b565eb734546ba72",
      "max": 1684,
      "min": 0,
      "orientation": "horizontal",
      "style": "IPY_MODEL_1a3ecbca3e874619a78ed84018226a06",
      "value": 1684
     }
    },
    "8f736179731c42d98c389b1f6c32bf6b": {
     "model_module": "@jupyter-widgets/controls",
     "model_name": "HTMLModel",
     "model_module_version": "1.5.0",
     "state": {
      "_dom_classes": [],
      "_model_module": "@jupyter-widgets/controls",
      "_model_module_version": "1.5.0",
      "_model_name": "HTMLModel",
      "_view_count": null,
      "_view_module": "@jupyter-widgets/controls",
      "_view_module_version": "1.5.0",
      "_view_name": "HTMLView",
      "description": "",
      "description_tooltip": null,
      "layout": "IPY_MODEL_9e67befff2a44ed0b4e3c5bdfeb41e1e",
      "placeholder": "​",
      "style": "IPY_MODEL_d1f85fd2fd5d4773963186d1a1cf140b",
      "value": " 1684/1684 [00:01&lt;00:00, 978.87 examples/s]"
     }
    },
    "a821ff68d2fd4fcf8330da101292060b": {
     "model_module": "@jupyter-widgets/base",
     "model_name": "LayoutModel",
     "model_module_version": "1.2.0",
     "state": {
      "_model_module": "@jupyter-widgets/base",
      "_model_module_version": "1.2.0",
      "_model_name": "LayoutModel",
      "_view_count": null,
      "_view_module": "@jupyter-widgets/base",
      "_view_module_version": "1.2.0",
      "_view_name": "LayoutView",
      "align_content": null,
      "align_items": null,
      "align_self": null,
      "border": null,
      "bottom": null,
      "display": null,
      "flex": null,
      "flex_flow": null,
      "grid_area": null,
      "grid_auto_columns": null,
      "grid_auto_flow": null,
      "grid_auto_rows": null,
      "grid_column": null,
      "grid_gap": null,
      "grid_row": null,
      "grid_template_areas": null,
      "grid_template_columns": null,
      "grid_template_rows": null,
      "height": null,
      "justify_content": null,
      "justify_items": null,
      "left": null,
      "margin": null,
      "max_height": null,
      "max_width": null,
      "min_height": null,
      "min_width": null,
      "object_fit": null,
      "object_position": null,
      "order": null,
      "overflow": null,
      "overflow_x": null,
      "overflow_y": null,
      "padding": null,
      "right": null,
      "top": null,
      "visibility": "hidden",
      "width": null
     }
    },
    "6b3453d91af844b0a32d8ac097900ec2": {
     "model_module": "@jupyter-widgets/base",
     "model_name": "LayoutModel",
     "model_module_version": "1.2.0",
     "state": {
      "_model_module": "@jupyter-widgets/base",
      "_model_module_version": "1.2.0",
      "_model_name": "LayoutModel",
      "_view_count": null,
      "_view_module": "@jupyter-widgets/base",
      "_view_module_version": "1.2.0",
      "_view_name": "LayoutView",
      "align_content": null,
      "align_items": null,
      "align_self": null,
      "border": null,
      "bottom": null,
      "display": null,
      "flex": null,
      "flex_flow": null,
      "grid_area": null,
      "grid_auto_columns": null,
      "grid_auto_flow": null,
      "grid_auto_rows": null,
      "grid_column": null,
      "grid_gap": null,
      "grid_row": null,
      "grid_template_areas": null,
      "grid_template_columns": null,
      "grid_template_rows": null,
      "height": null,
      "justify_content": null,
      "justify_items": null,
      "left": null,
      "margin": null,
      "max_height": null,
      "max_width": null,
      "min_height": null,
      "min_width": null,
      "object_fit": null,
      "object_position": null,
      "order": null,
      "overflow": null,
      "overflow_x": null,
      "overflow_y": null,
      "padding": null,
      "right": null,
      "top": null,
      "visibility": null,
      "width": null
     }
    },
    "6361a1aef4794864a7630b19d0bee792": {
     "model_module": "@jupyter-widgets/controls",
     "model_name": "DescriptionStyleModel",
     "model_module_version": "1.5.0",
     "state": {
      "_model_module": "@jupyter-widgets/controls",
      "_model_module_version": "1.5.0",
      "_model_name": "DescriptionStyleModel",
      "_view_count": null,
      "_view_module": "@jupyter-widgets/base",
      "_view_module_version": "1.2.0",
      "_view_name": "StyleView",
      "description_width": ""
     }
    },
    "69ed45537afc4e30b565eb734546ba72": {
     "model_module": "@jupyter-widgets/base",
     "model_name": "LayoutModel",
     "model_module_version": "1.2.0",
     "state": {
      "_model_module": "@jupyter-widgets/base",
      "_model_module_version": "1.2.0",
      "_model_name": "LayoutModel",
      "_view_count": null,
      "_view_module": "@jupyter-widgets/base",
      "_view_module_version": "1.2.0",
      "_view_name": "LayoutView",
      "align_content": null,
      "align_items": null,
      "align_self": null,
      "border": null,
      "bottom": null,
      "display": null,
      "flex": null,
      "flex_flow": null,
      "grid_area": null,
      "grid_auto_columns": null,
      "grid_auto_flow": null,
      "grid_auto_rows": null,
      "grid_column": null,
      "grid_gap": null,
      "grid_row": null,
      "grid_template_areas": null,
      "grid_template_columns": null,
      "grid_template_rows": null,
      "height": null,
      "justify_content": null,
      "justify_items": null,
      "left": null,
      "margin": null,
      "max_height": null,
      "max_width": null,
      "min_height": null,
      "min_width": null,
      "object_fit": null,
      "object_position": null,
      "order": null,
      "overflow": null,
      "overflow_x": null,
      "overflow_y": null,
      "padding": null,
      "right": null,
      "top": null,
      "visibility": null,
      "width": null
     }
    },
    "1a3ecbca3e874619a78ed84018226a06": {
     "model_module": "@jupyter-widgets/controls",
     "model_name": "ProgressStyleModel",
     "model_module_version": "1.5.0",
     "state": {
      "_model_module": "@jupyter-widgets/controls",
      "_model_module_version": "1.5.0",
      "_model_name": "ProgressStyleModel",
      "_view_count": null,
      "_view_module": "@jupyter-widgets/base",
      "_view_module_version": "1.2.0",
      "_view_name": "StyleView",
      "bar_color": null,
      "description_width": ""
     }
    },
    "9e67befff2a44ed0b4e3c5bdfeb41e1e": {
     "model_module": "@jupyter-widgets/base",
     "model_name": "LayoutModel",
     "model_module_version": "1.2.0",
     "state": {
      "_model_module": "@jupyter-widgets/base",
      "_model_module_version": "1.2.0",
      "_model_name": "LayoutModel",
      "_view_count": null,
      "_view_module": "@jupyter-widgets/base",
      "_view_module_version": "1.2.0",
      "_view_name": "LayoutView",
      "align_content": null,
      "align_items": null,
      "align_self": null,
      "border": null,
      "bottom": null,
      "display": null,
      "flex": null,
      "flex_flow": null,
      "grid_area": null,
      "grid_auto_columns": null,
      "grid_auto_flow": null,
      "grid_auto_rows": null,
      "grid_column": null,
      "grid_gap": null,
      "grid_row": null,
      "grid_template_areas": null,
      "grid_template_columns": null,
      "grid_template_rows": null,
      "height": null,
      "justify_content": null,
      "justify_items": null,
      "left": null,
      "margin": null,
      "max_height": null,
      "max_width": null,
      "min_height": null,
      "min_width": null,
      "object_fit": null,
      "object_position": null,
      "order": null,
      "overflow": null,
      "overflow_x": null,
      "overflow_y": null,
      "padding": null,
      "right": null,
      "top": null,
      "visibility": null,
      "width": null
     }
    },
    "d1f85fd2fd5d4773963186d1a1cf140b": {
     "model_module": "@jupyter-widgets/controls",
     "model_name": "DescriptionStyleModel",
     "model_module_version": "1.5.0",
     "state": {
      "_model_module": "@jupyter-widgets/controls",
      "_model_module_version": "1.5.0",
      "_model_name": "DescriptionStyleModel",
      "_view_count": null,
      "_view_module": "@jupyter-widgets/base",
      "_view_module_version": "1.2.0",
      "_view_name": "StyleView",
      "description_width": ""
     }
    },
    "cdac74662c6f45eaa38a44690a50e728": {
     "model_module": "@jupyter-widgets/controls",
     "model_name": "HBoxModel",
     "model_module_version": "1.5.0",
     "state": {
      "_dom_classes": [],
      "_model_module": "@jupyter-widgets/controls",
      "_model_module_version": "1.5.0",
      "_model_name": "HBoxModel",
      "_view_count": null,
      "_view_module": "@jupyter-widgets/controls",
      "_view_module_version": "1.5.0",
      "_view_name": "HBoxView",
      "box_style": "",
      "children": [
       "IPY_MODEL_47eeb67daa20488d932d397582c3fd18",
       "IPY_MODEL_e53e8b59b44e4ffc85ecdc27ae775e59",
       "IPY_MODEL_91bcd9193200443594f038db65329f4b"
      ],
      "layout": "IPY_MODEL_112bbfd8cfe244cab04ea6d4ed6d993c"
     }
    },
    "47eeb67daa20488d932d397582c3fd18": {
     "model_module": "@jupyter-widgets/controls",
     "model_name": "HTMLModel",
     "model_module_version": "1.5.0",
     "state": {
      "_dom_classes": [],
      "_model_module": "@jupyter-widgets/controls",
      "_model_module_version": "1.5.0",
      "_model_name": "HTMLModel",
      "_view_count": null,
      "_view_module": "@jupyter-widgets/controls",
      "_view_module_version": "1.5.0",
      "_view_name": "HTMLView",
      "description": "",
      "description_tooltip": null,
      "layout": "IPY_MODEL_d3e3734f158d431bacd0ed0f2c219437",
      "placeholder": "​",
      "style": "IPY_MODEL_7e49c470db3947bdad98fde65290112e",
      "value": "Skipping the first batches: 100%"
     }
    },
    "e53e8b59b44e4ffc85ecdc27ae775e59": {
     "model_module": "@jupyter-widgets/controls",
     "model_name": "FloatProgressModel",
     "model_module_version": "1.5.0",
     "state": {
      "_dom_classes": [],
      "_model_module": "@jupyter-widgets/controls",
      "_model_module_version": "1.5.0",
      "_model_name": "FloatProgressModel",
      "_view_count": null,
      "_view_module": "@jupyter-widgets/controls",
      "_view_module_version": "1.5.0",
      "_view_name": "ProgressView",
      "bar_style": "success",
      "description": "",
      "description_tooltip": null,
      "layout": "IPY_MODEL_9cc984f4948146d4bfd4e12da87fc716",
      "max": 256,
      "min": 0,
      "orientation": "horizontal",
      "style": "IPY_MODEL_1020d0ca340f4b6f95ada00207633214",
      "value": 256
     }
    },
    "91bcd9193200443594f038db65329f4b": {
     "model_module": "@jupyter-widgets/controls",
     "model_name": "HTMLModel",
     "model_module_version": "1.5.0",
     "state": {
      "_dom_classes": [],
      "_model_module": "@jupyter-widgets/controls",
      "_model_module_version": "1.5.0",
      "_model_name": "HTMLModel",
      "_view_count": null,
      "_view_module": "@jupyter-widgets/controls",
      "_view_module_version": "1.5.0",
      "_view_name": "HTMLView",
      "description": "",
      "description_tooltip": null,
      "layout": "IPY_MODEL_1b7a83010f3b4e9398cfb85adaf7cbb6",
      "placeholder": "​",
      "style": "IPY_MODEL_76106e167c324334a8e77619fd8eb62c",
      "value": " 256/256 [00:13&lt;00:00, 81.38it/s]"
     }
    },
    "112bbfd8cfe244cab04ea6d4ed6d993c": {
     "model_module": "@jupyter-widgets/base",
     "model_name": "LayoutModel",
     "model_module_version": "1.2.0",
     "state": {
      "_model_module": "@jupyter-widgets/base",
      "_model_module_version": "1.2.0",
      "_model_name": "LayoutModel",
      "_view_count": null,
      "_view_module": "@jupyter-widgets/base",
      "_view_module_version": "1.2.0",
      "_view_name": "LayoutView",
      "align_content": null,
      "align_items": null,
      "align_self": null,
      "border": null,
      "bottom": null,
      "display": null,
      "flex": null,
      "flex_flow": null,
      "grid_area": null,
      "grid_auto_columns": null,
      "grid_auto_flow": null,
      "grid_auto_rows": null,
      "grid_column": null,
      "grid_gap": null,
      "grid_row": null,
      "grid_template_areas": null,
      "grid_template_columns": null,
      "grid_template_rows": null,
      "height": null,
      "justify_content": null,
      "justify_items": null,
      "left": null,
      "margin": null,
      "max_height": null,
      "max_width": null,
      "min_height": null,
      "min_width": null,
      "object_fit": null,
      "object_position": null,
      "order": null,
      "overflow": null,
      "overflow_x": null,
      "overflow_y": null,
      "padding": null,
      "right": null,
      "top": null,
      "visibility": null,
      "width": null
     }
    },
    "d3e3734f158d431bacd0ed0f2c219437": {
     "model_module": "@jupyter-widgets/base",
     "model_name": "LayoutModel",
     "model_module_version": "1.2.0",
     "state": {
      "_model_module": "@jupyter-widgets/base",
      "_model_module_version": "1.2.0",
      "_model_name": "LayoutModel",
      "_view_count": null,
      "_view_module": "@jupyter-widgets/base",
      "_view_module_version": "1.2.0",
      "_view_name": "LayoutView",
      "align_content": null,
      "align_items": null,
      "align_self": null,
      "border": null,
      "bottom": null,
      "display": null,
      "flex": null,
      "flex_flow": null,
      "grid_area": null,
      "grid_auto_columns": null,
      "grid_auto_flow": null,
      "grid_auto_rows": null,
      "grid_column": null,
      "grid_gap": null,
      "grid_row": null,
      "grid_template_areas": null,
      "grid_template_columns": null,
      "grid_template_rows": null,
      "height": null,
      "justify_content": null,
      "justify_items": null,
      "left": null,
      "margin": null,
      "max_height": null,
      "max_width": null,
      "min_height": null,
      "min_width": null,
      "object_fit": null,
      "object_position": null,
      "order": null,
      "overflow": null,
      "overflow_x": null,
      "overflow_y": null,
      "padding": null,
      "right": null,
      "top": null,
      "visibility": null,
      "width": null
     }
    },
    "7e49c470db3947bdad98fde65290112e": {
     "model_module": "@jupyter-widgets/controls",
     "model_name": "DescriptionStyleModel",
     "model_module_version": "1.5.0",
     "state": {
      "_model_module": "@jupyter-widgets/controls",
      "_model_module_version": "1.5.0",
      "_model_name": "DescriptionStyleModel",
      "_view_count": null,
      "_view_module": "@jupyter-widgets/base",
      "_view_module_version": "1.2.0",
      "_view_name": "StyleView",
      "description_width": ""
     }
    },
    "9cc984f4948146d4bfd4e12da87fc716": {
     "model_module": "@jupyter-widgets/base",
     "model_name": "LayoutModel",
     "model_module_version": "1.2.0",
     "state": {
      "_model_module": "@jupyter-widgets/base",
      "_model_module_version": "1.2.0",
      "_model_name": "LayoutModel",
      "_view_count": null,
      "_view_module": "@jupyter-widgets/base",
      "_view_module_version": "1.2.0",
      "_view_name": "LayoutView",
      "align_content": null,
      "align_items": null,
      "align_self": null,
      "border": null,
      "bottom": null,
      "display": null,
      "flex": null,
      "flex_flow": null,
      "grid_area": null,
      "grid_auto_columns": null,
      "grid_auto_flow": null,
      "grid_auto_rows": null,
      "grid_column": null,
      "grid_gap": null,
      "grid_row": null,
      "grid_template_areas": null,
      "grid_template_columns": null,
      "grid_template_rows": null,
      "height": null,
      "justify_content": null,
      "justify_items": null,
      "left": null,
      "margin": null,
      "max_height": null,
      "max_width": null,
      "min_height": null,
      "min_width": null,
      "object_fit": null,
      "object_position": null,
      "order": null,
      "overflow": null,
      "overflow_x": null,
      "overflow_y": null,
      "padding": null,
      "right": null,
      "top": null,
      "visibility": null,
      "width": null
     }
    },
    "1020d0ca340f4b6f95ada00207633214": {
     "model_module": "@jupyter-widgets/controls",
     "model_name": "ProgressStyleModel",
     "model_module_version": "1.5.0",
     "state": {
      "_model_module": "@jupyter-widgets/controls",
      "_model_module_version": "1.5.0",
      "_model_name": "ProgressStyleModel",
      "_view_count": null,
      "_view_module": "@jupyter-widgets/base",
      "_view_module_version": "1.2.0",
      "_view_name": "StyleView",
      "bar_color": null,
      "description_width": ""
     }
    },
    "1b7a83010f3b4e9398cfb85adaf7cbb6": {
     "model_module": "@jupyter-widgets/base",
     "model_name": "LayoutModel",
     "model_module_version": "1.2.0",
     "state": {
      "_model_module": "@jupyter-widgets/base",
      "_model_module_version": "1.2.0",
      "_model_name": "LayoutModel",
      "_view_count": null,
      "_view_module": "@jupyter-widgets/base",
      "_view_module_version": "1.2.0",
      "_view_name": "LayoutView",
      "align_content": null,
      "align_items": null,
      "align_self": null,
      "border": null,
      "bottom": null,
      "display": null,
      "flex": null,
      "flex_flow": null,
      "grid_area": null,
      "grid_auto_columns": null,
      "grid_auto_flow": null,
      "grid_auto_rows": null,
      "grid_column": null,
      "grid_gap": null,
      "grid_row": null,
      "grid_template_areas": null,
      "grid_template_columns": null,
      "grid_template_rows": null,
      "height": null,
      "justify_content": null,
      "justify_items": null,
      "left": null,
      "margin": null,
      "max_height": null,
      "max_width": null,
      "min_height": null,
      "min_width": null,
      "object_fit": null,
      "object_position": null,
      "order": null,
      "overflow": null,
      "overflow_x": null,
      "overflow_y": null,
      "padding": null,
      "right": null,
      "top": null,
      "visibility": null,
      "width": null
     }
    },
    "76106e167c324334a8e77619fd8eb62c": {
     "model_module": "@jupyter-widgets/controls",
     "model_name": "DescriptionStyleModel",
     "model_module_version": "1.5.0",
     "state": {
      "_model_module": "@jupyter-widgets/controls",
      "_model_module_version": "1.5.0",
      "_model_name": "DescriptionStyleModel",
      "_view_count": null,
      "_view_module": "@jupyter-widgets/base",
      "_view_module_version": "1.2.0",
      "_view_name": "StyleView",
      "description_width": ""
     }
    }
   }
  }
 },
 "nbformat": 4,
 "nbformat_minor": 0
}
